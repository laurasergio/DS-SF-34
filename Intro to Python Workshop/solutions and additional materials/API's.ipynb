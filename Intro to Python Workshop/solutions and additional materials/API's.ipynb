{
 "cells": [
  {
   "cell_type": "code",
   "execution_count": null,
   "metadata": {
    "collapsed": true
   },
   "outputs": [],
   "source": [
    "import requests, json\n",
    "import pandas as pd\n",
    "import numpy as np\n",
    "\n",
    "%matplotlib inline\n",
    "\n",
    "import matplotlib.pylab as plt"
   ]
  },
  {
   "cell_type": "markdown",
   "metadata": {},
   "source": [
    "### SF Open Data\n",
    "    - Guide: https://data.sfgov.org/developers\n",
    "    - Getting Data\n",
    "    https://data.sfgov.org/Public-Safety/SFPD-Incidents-from-1-January-2003/tmnf-yvry\n",
    "    - JSON Response: https://data.sfgov.org/resource/tmnf-yvry.json"
   ]
  },
  {
   "cell_type": "code",
   "execution_count": null,
   "metadata": {
    "collapsed": false
   },
   "outputs": [],
   "source": [
    "url = \"https://data.sfgov.org/resource/tmnf-yvry.json\"\n",
    "r = requests.get(url)\n",
    "print r.status_code"
   ]
  },
  {
   "cell_type": "code",
   "execution_count": null,
   "metadata": {
    "collapsed": false
   },
   "outputs": [],
   "source": [
    "type(r)"
   ]
  },
  {
   "cell_type": "code",
   "execution_count": null,
   "metadata": {
    "collapsed": false
   },
   "outputs": [],
   "source": [
    "print len(r.content)"
   ]
  },
  {
   "cell_type": "code",
   "execution_count": null,
   "metadata": {
    "collapsed": false
   },
   "outputs": [],
   "source": [
    "print type(r.content)"
   ]
  },
  {
   "cell_type": "code",
   "execution_count": 6,
   "metadata": {
    "collapsed": false
   },
   "outputs": [
    {
     "name": "stdout",
     "output_type": "stream",
     "text": [
      "[ {\n",
      "  \"date\" : \"2016-10-22T00:00:00\",\n",
      "  \"address\" : \"FILLMORE ST / GREENWICH ST\",\n",
      "  \"resolution\" : \"\n"
     ]
    }
   ],
   "source": [
    "print r.content[:100]"
   ]
  },
  {
   "cell_type": "code",
   "execution_count": 8,
   "metadata": {
    "collapsed": false
   },
   "outputs": [],
   "source": [
    "data = json.loads(r.content)"
   ]
  },
  {
   "cell_type": "code",
   "execution_count": 9,
   "metadata": {
    "collapsed": false
   },
   "outputs": [
    {
     "name": "stdout",
     "output_type": "stream",
     "text": [
      "<type 'list'>\n",
      "<type 'dict'>\n"
     ]
    }
   ],
   "source": [
    "print type(data)\n",
    "print type(data[1])"
   ]
  },
  {
   "cell_type": "code",
   "execution_count": 11,
   "metadata": {
    "collapsed": false
   },
   "outputs": [
    {
     "data": {
      "text/plain": [
       "[u'dayofweek',\n",
       " u'incidntnum',\n",
       " u'time',\n",
       " u'descript',\n",
       " u'pddistrict',\n",
       " u'y',\n",
       " u'location',\n",
       " u'address',\n",
       " u'date',\n",
       " u'x',\n",
       " u'category',\n",
       " u'resolution',\n",
       " u'pdid']"
      ]
     },
     "execution_count": 11,
     "metadata": {},
     "output_type": "execute_result"
    }
   ],
   "source": [
    "data[1].keys()"
   ]
  },
  {
   "cell_type": "code",
   "execution_count": 13,
   "metadata": {
    "collapsed": false
   },
   "outputs": [
    {
     "data": {
      "text/plain": [
       "u'PROPERTY FOR IDENTIFICATION'"
      ]
     },
     "execution_count": 13,
     "metadata": {},
     "output_type": "execute_result"
    }
   ],
   "source": [
    "data[1]['descript']"
   ]
  },
  {
   "cell_type": "code",
   "execution_count": 14,
   "metadata": {
    "collapsed": true
   },
   "outputs": [],
   "source": [
    "df = pd.DataFrame(data)"
   ]
  },
  {
   "cell_type": "code",
   "execution_count": 15,
   "metadata": {
    "collapsed": false
   },
   "outputs": [
    {
     "data": {
      "text/html": [
       "<div>\n",
       "<table border=\"1\" class=\"dataframe\">\n",
       "  <thead>\n",
       "    <tr style=\"text-align: right;\">\n",
       "      <th></th>\n",
       "      <th>address</th>\n",
       "      <th>category</th>\n",
       "      <th>date</th>\n",
       "      <th>dayofweek</th>\n",
       "      <th>descript</th>\n",
       "      <th>incidntnum</th>\n",
       "      <th>location</th>\n",
       "      <th>pddistrict</th>\n",
       "      <th>pdid</th>\n",
       "      <th>resolution</th>\n",
       "      <th>time</th>\n",
       "      <th>x</th>\n",
       "      <th>y</th>\n",
       "    </tr>\n",
       "  </thead>\n",
       "  <tbody>\n",
       "    <tr>\n",
       "      <th>0</th>\n",
       "      <td>FILLMORE ST / GREENWICH ST</td>\n",
       "      <td>LARCENY/THEFT</td>\n",
       "      <td>2016-10-22T00:00:00</td>\n",
       "      <td>Saturday</td>\n",
       "      <td>PETTY THEFT OF PROPERTY</td>\n",
       "      <td>166237234</td>\n",
       "      <td>{u'latitude': u'37.7989514142851', u'needs_rec...</td>\n",
       "      <td>NORTHERN</td>\n",
       "      <td>16623723406372</td>\n",
       "      <td>NONE</td>\n",
       "      <td>23:45</td>\n",
       "      <td>-122.435870220186</td>\n",
       "      <td>37.7989514142851</td>\n",
       "    </tr>\n",
       "    <tr>\n",
       "      <th>1</th>\n",
       "      <td>1000 Block of POTRERO AV</td>\n",
       "      <td>NON-CRIMINAL</td>\n",
       "      <td>2016-10-22T00:00:00</td>\n",
       "      <td>Saturday</td>\n",
       "      <td>PROPERTY FOR IDENTIFICATION</td>\n",
       "      <td>160862356</td>\n",
       "      <td>{u'latitude': u'37.7564864109309', u'needs_rec...</td>\n",
       "      <td>MISSION</td>\n",
       "      <td>16086235673000</td>\n",
       "      <td>NONE</td>\n",
       "      <td>23:30</td>\n",
       "      <td>-122.406539115148</td>\n",
       "      <td>37.7564864109309</td>\n",
       "    </tr>\n",
       "  </tbody>\n",
       "</table>\n",
       "</div>"
      ],
      "text/plain": [
       "                      address       category                 date dayofweek  \\\n",
       "0  FILLMORE ST / GREENWICH ST  LARCENY/THEFT  2016-10-22T00:00:00  Saturday   \n",
       "1    1000 Block of POTRERO AV   NON-CRIMINAL  2016-10-22T00:00:00  Saturday   \n",
       "\n",
       "                      descript incidntnum  \\\n",
       "0      PETTY THEFT OF PROPERTY  166237234   \n",
       "1  PROPERTY FOR IDENTIFICATION  160862356   \n",
       "\n",
       "                                            location pddistrict  \\\n",
       "0  {u'latitude': u'37.7989514142851', u'needs_rec...   NORTHERN   \n",
       "1  {u'latitude': u'37.7564864109309', u'needs_rec...    MISSION   \n",
       "\n",
       "             pdid resolution   time                  x                 y  \n",
       "0  16623723406372       NONE  23:45  -122.435870220186  37.7989514142851  \n",
       "1  16086235673000       NONE  23:30  -122.406539115148  37.7564864109309  "
      ]
     },
     "execution_count": 15,
     "metadata": {},
     "output_type": "execute_result"
    }
   ],
   "source": [
    "df.head(2)"
   ]
  },
  {
   "cell_type": "code",
   "execution_count": 16,
   "metadata": {
    "collapsed": false
   },
   "outputs": [
    {
     "data": {
      "text/plain": [
       "LARCENY/THEFT                  229\n",
       "OTHER OFFENSES                 115\n",
       "ASSAULT                        107\n",
       "NON-CRIMINAL                    96\n",
       "VEHICLE THEFT                   81\n",
       "VANDALISM                       57\n",
       "SUSPICIOUS OCC                  49\n",
       "BURGLARY                        48\n",
       "WARRANTS                        41\n",
       "DRUG/NARCOTIC                   38\n",
       "ROBBERY                         24\n",
       "MISSING PERSON                  22\n",
       "SECONDARY CODES                 22\n",
       "WEAPON LAWS                     18\n",
       "FRAUD                           14\n",
       "TRESPASS                         9\n",
       "STOLEN PROPERTY                  6\n",
       "DRUNKENNESS                      5\n",
       "SEX OFFENSES, FORCIBLE           5\n",
       "ARSON                            3\n",
       "DISORDERLY CONDUCT               2\n",
       "RECOVERED VEHICLE                2\n",
       "DRIVING UNDER THE INFLUENCE      2\n",
       "BAD CHECKS                       1\n",
       "FORGERY/COUNTERFEITING           1\n",
       "FAMILY OFFENSES                  1\n",
       "EXTORTION                        1\n",
       "RUNAWAY                          1\n",
       "Name: category, dtype: int64"
      ]
     },
     "execution_count": 16,
     "metadata": {},
     "output_type": "execute_result"
    }
   ],
   "source": [
    "df['category'].value_counts()"
   ]
  },
  {
   "cell_type": "code",
   "execution_count": 17,
   "metadata": {
    "collapsed": false
   },
   "outputs": [
    {
     "data": {
      "text/plain": [
       "<matplotlib.axes._subplots.AxesSubplot at 0x11563e650>"
      ]
     },
     "execution_count": 17,
     "metadata": {},
     "output_type": "execute_result"
    },
    {
     "data": {
      "image/png": "[encoded data removed]",
      "text/plain": [
       "<matplotlib.figure.Figure at 0x1042f8350>"
      ]
     },
     "metadata": {},
     "output_type": "display_data"
    }
   ],
   "source": [
    "df['category'].value_counts().plot()"
   ]
  },
  {
   "cell_type": "code",
   "execution_count": null,
   "metadata": {
    "collapsed": true
   },
   "outputs": [],
   "source": []
  }
 ],
 "metadata": {
  "kernelspec": {
   "display_name": "Python 2",
   "language": "python",
   "name": "python2"
  },
  "language_info": {
   "codemirror_mode": {
    "name": "ipython",
    "version": 2
   },
   "file_extension": ".py",
   "mimetype": "text/x-python",
   "name": "python",
   "nbconvert_exporter": "python",
   "pygments_lexer": "ipython2",
   "version": "2.7.11"
  }
 },
 "nbformat": 4,
 "nbformat_minor": 0
}
