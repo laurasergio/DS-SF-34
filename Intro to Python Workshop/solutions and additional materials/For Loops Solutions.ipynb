{
 "cells": [
  {
   "cell_type": "markdown",
   "metadata": {},
   "source": [
    "# For Loops\n",
    "&copy; QuantSprout"
   ]
  },
  {
   "cell_type": "markdown",
   "metadata": {},
   "source": [
    "Create a for loop"
   ]
  },
  {
   "cell_type": "code",
   "execution_count": 1,
   "metadata": {
    "collapsed": false
   },
   "outputs": [
    {
     "name": "stdout",
     "output_type": "stream",
     "text": [
      "1\n",
      "2\n",
      "name\n",
      "The for loop is done\n"
     ]
    }
   ],
   "source": [
    "for x in [1,2,'name']: \n",
    "    print x    \n",
    "    \n",
    "print \"The for loop is done\""
   ]
  },
  {
   "cell_type": "code",
   "execution_count": 2,
   "metadata": {
    "collapsed": false
   },
   "outputs": [
    {
     "name": "stdout",
     "output_type": "stream",
     "text": [
      "name\n"
     ]
    }
   ],
   "source": [
    "print x"
   ]
  },
  {
   "cell_type": "code",
   "execution_count": null,
   "metadata": {
    "collapsed": true
   },
   "outputs": [],
   "source": []
  },
  {
   "cell_type": "code",
   "execution_count": null,
   "metadata": {
    "collapsed": true
   },
   "outputs": [],
   "source": []
  },
  {
   "cell_type": "code",
   "execution_count": 4,
   "metadata": {
    "collapsed": false
   },
   "outputs": [
    {
     "name": "stdout",
     "output_type": "stream",
     "text": [
      "this\n",
      "is\n",
      "a\n",
      "list\n"
     ]
    }
   ],
   "source": [
    "mylist = ['this','is','a', 'list']\n",
    "# print len(mylist)\n",
    "# print range(len(mylist))\n",
    "\n",
    "for i in range(len(mylist)):\n",
    "    print mylist[i]"
   ]
  },
  {
   "cell_type": "code",
   "execution_count": 5,
   "metadata": {
    "collapsed": false
   },
   "outputs": [
    {
     "name": "stdout",
     "output_type": "stream",
     "text": [
      "this\n",
      "1\n",
      "is\n",
      "2\n",
      "a\n",
      "3\n",
      "list\n",
      "4\n"
     ]
    }
   ],
   "source": [
    "mylist = ['this','is','a', 'list']\n",
    "otherlist = [1,2,3,4]\n",
    "\n",
    "for i in range(len(mylist)):\n",
    "    print mylist[i]\n",
    "    print otherlist[i]"
   ]
  },
  {
   "cell_type": "markdown",
   "metadata": {},
   "source": [
    "Capture the all the results of a for loop"
   ]
  },
  {
   "cell_type": "code",
   "execution_count": 7,
   "metadata": {
    "collapsed": false
   },
   "outputs": [
    {
     "name": "stdout",
     "output_type": "stream",
     "text": [
      "[100]\n",
      "[100, 9]\n",
      "[100, 9, 289]\n"
     ]
    }
   ],
   "source": [
    "results = []\n",
    "for x in [10,3,17]:\n",
    "    squared = x ** 2\n",
    "    results.append(squared)\n",
    "    \n",
    "print results\n",
    "\n",
    "\n"
   ]
  },
  {
   "cell_type": "markdown",
   "metadata": {},
   "source": [
    "### Exercise\n",
    "#### 1. Create a function that receives a list of numbers as an input, adds 1 to each number and returns the results as a list\n"
   ]
  },
  {
   "cell_type": "code",
   "execution_count": 8,
   "metadata": {
    "collapsed": false
   },
   "outputs": [
    {
     "name": "stdout",
     "output_type": "stream",
     "text": [
      "[11, 16, 8]\n"
     ]
    }
   ],
   "source": [
    "def add_to_list(input_list):\n",
    "    results = []\n",
    "    for each in input_list:    \n",
    "        addone = each + 1\n",
    "        results.append(addone)\n",
    "    return results\n",
    "\n",
    "print add_to_list([10,15,7])"
   ]
  },
  {
   "cell_type": "markdown",
   "metadata": {},
   "source": [
    "#### 2. Update your temperature conversion function from the Python Fundamentals exercise to accept a list of Celsius temperatures and return a list of Fahrenheit temperatures "
   ]
  },
  {
   "cell_type": "code",
   "execution_count": 11,
   "metadata": {
    "collapsed": true
   },
   "outputs": [],
   "source": [
    "#Simplest\n",
    "def convert_temp_list(temp_list):\n",
    "    results = []\n",
    "    for temp in temp_list:\n",
    "        new_temp = temp * 9.0 / 5.0 + 32.0\n",
    "        results.append(new_temp)\n",
    "    return results"
   ]
  },
  {
   "cell_type": "code",
   "execution_count": 12,
   "metadata": {
    "collapsed": false
   },
   "outputs": [],
   "source": [
    "#Nested functions\n",
    "def convert_temp(degrees_c):\n",
    "    degrees_f = degrees_c * 9.0 / 5.0 + 32.0\n",
    "    return degrees_f\n",
    "\n",
    "def convert_temp_list2(temp_list):\n",
    "    results = []\n",
    "    for temp in temp_list:\n",
    "        results.append(convert_temp(temp))\n",
    "    return results"
   ]
  },
  {
   "cell_type": "code",
   "execution_count": 13,
   "metadata": {
    "collapsed": false
   },
   "outputs": [
    {
     "data": {
      "text/plain": [
       "[32.0, 86.0, 212.0]"
      ]
     },
     "execution_count": 13,
     "metadata": {},
     "output_type": "execute_result"
    }
   ],
   "source": [
    "convert_temp_list([0,30,100])"
   ]
  },
  {
   "cell_type": "code",
   "execution_count": 14,
   "metadata": {
    "collapsed": false
   },
   "outputs": [
    {
     "data": {
      "text/plain": [
       "[32.0, 86.0, 212.0]"
      ]
     },
     "execution_count": 14,
     "metadata": {},
     "output_type": "execute_result"
    }
   ],
   "source": [
    "convert_temp_list2([0,30,100])"
   ]
  },
  {
   "cell_type": "markdown",
   "metadata": {},
   "source": [
    "#### Bonus: Add error handling to your temperature conversion function.\n"
   ]
  },
  {
   "cell_type": "code",
   "execution_count": 17,
   "metadata": {
    "collapsed": false
   },
   "outputs": [],
   "source": [
    "#With error handling and nesting\n",
    "def convert_temp_check(degrees_c):\n",
    "    if (type(degrees_c) == int) | (type(degrees_c) == float):\n",
    "        degrees_f = degrees_c * 9.0 / 5 + 32\n",
    "        return degrees_f\n",
    "    else:\n",
    "        return \"Error. {} is a non-numeric value.\".format(degrees_c)\n",
    "    \n",
    "def convert_temp_list3(temp_list):\n",
    "    results = []\n",
    "    for temp in temp_list:\n",
    "        results.append(convert_temp_check(temp))\n",
    "    return results"
   ]
  },
  {
   "cell_type": "code",
   "execution_count": 18,
   "metadata": {
    "collapsed": false
   },
   "outputs": [
    {
     "data": {
      "text/plain": [
       "[32.0, 86.0, 212.0, 'Error. cat is a non-numeric value.']"
      ]
     },
     "execution_count": 18,
     "metadata": {},
     "output_type": "execute_result"
    }
   ],
   "source": [
    "convert_temp_list3([0,30,100,'cat'])"
   ]
  },
  {
   "cell_type": "code",
   "execution_count": null,
   "metadata": {
    "collapsed": true
   },
   "outputs": [],
   "source": [
    "def convert_temp_list4(temp_list):\n",
    "    results = []\n",
    "    for degrees_c in temp_list:\n",
    "        if (type(degrees_c) == int) | (type(degrees_c) == float):\n",
    "            degrees_f = degrees_c * 9.0 / 5 + 32\n",
    "            results.append(degrees_f)\n",
    "        else:\n",
    "            results.append(\"Error. {} is a non-numeric value.\".format(degrees_c))\n",
    "    return results"
   ]
  },
  {
   "cell_type": "code",
   "execution_count": null,
   "metadata": {
    "collapsed": false
   },
   "outputs": [],
   "source": [
    "convert_temp_list4([0,30,100,'cat'])"
   ]
  },
  {
   "cell_type": "code",
   "execution_count": null,
   "metadata": {
    "collapsed": false
   },
   "outputs": [],
   "source": [
    "def convert_temp_list_generic(temp_list):\n",
    "    results = []\n",
    "    for degrees_c in temp_list:\n",
    "        condition1 = (type(degrees_c) == int) | (type(degrees_c) == float)\n",
    "        condition2 = degrees_c <= -274\n",
    "        if condition1:\n",
    "            degrees_f = degrees_c * 9.0 / 5 + 32\n",
    "            results.append(degrees_f)\n",
    "        elif condition2:\n",
    "            \n",
    "        else:\n",
    "            results.append(\"Error. {} can't convert.\".format(degrees_c))\n",
    "    return results"
   ]
  },
  {
   "cell_type": "code",
   "execution_count": null,
   "metadata": {
    "collapsed": false
   },
   "outputs": [],
   "source": [
    "convert_temp_list_generic([-275, 2])"
   ]
  }
 ],
 "metadata": {
  "kernelspec": {
   "display_name": "Python 2",
   "language": "python",
   "name": "python2"
  },
  "language_info": {
   "codemirror_mode": {
    "name": "ipython",
    "version": 2
   },
   "file_extension": ".py",
   "mimetype": "text/x-python",
   "name": "python",
   "nbconvert_exporter": "python",
   "pygments_lexer": "ipython2",
   "version": "2.7.11"
  }
 },
 "nbformat": 4,
 "nbformat_minor": 0
}
