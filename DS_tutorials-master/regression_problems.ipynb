{
 "cells": [
  {
   "cell_type": "markdown",
   "metadata": {},
   "source": [
    "# Regression Workbook \n",
    "\n",
    "The purpose of this problem set is to put your regression skills to the test. As a GA student of data science, you have covered a number of sklearn regression techniques, so now is your chance to apply them. We'll be using the Boston Housing Dataset. Just kidding. I know you hate that one. \n",
    "\n",
    "We'll be exploring the relationships between sugar, economics, and teeth. You are given a dataset containing sugar consuption, healthcare spending, per capita GDP, literacy rate and the number of bad teeth per child across several hundred countries. What do you think? If you get richer, do your teeth get worse from more sugary foods, or better with health care assistance? Does education improve health, or drive excess? \n",
    "\n",
    "<img src='https://raw.githubusercontent.com/momonala/DS_tutorials/master/files/brush.gif' width='150'>\n",
    "\n",
    "You'll be implementing some of the techniques you've learned in class with hypothesis testing, exploratory analysis, and regression. A few questions to consider: \n",
    " \n",
    "    1) What questions are relevant to ask? How do explore these your initial analysis?\n",
    "    2) How can you optimize on the default regression techniques? \n",
    "    3) How can you effectively visualize and explain the relationships?\n",
    "    \n",
    "I've provided some imports and starter code to get you going.\n",
    "\n",
    "If you get stuck, remember the options you have. Talk to your neighbors, check out StackOverflow and blogs (I recommend Googling your question with the term blog.yhat), and run '?' on functions for docstrings. "
   ]
  },
  {
   "cell_type": "code",
   "execution_count": 1,
   "metadata": {
    "collapsed": false
   },
   "outputs": [],
   "source": [
    "# ex. \n",
    "max?"
   ]
  },
  {
   "cell_type": "markdown",
   "metadata": {},
   "source": [
    "# Exploratory Analysis "
   ]
  },
  {
   "cell_type": "code",
   "execution_count": 49,
   "metadata": {
    "collapsed": true
   },
   "outputs": [],
   "source": [
    "import pandas as pd \n",
    "import numpy as np \n",
    "import matplotlib.pyplot as plt\n",
    "\n",
    "import matplotlib.pyplot as plt\n",
    "%matplotlib inline\n",
    "plt.style.use('ggplot')"
   ]
  },
  {
   "cell_type": "code",
   "execution_count": 76,
   "metadata": {
    "collapsed": true
   },
   "outputs": [],
   "source": [
    "df = pd.read_csv(\"data/dental_economics.csv\")"
   ]
  },
  {
   "cell_type": "code",
   "execution_count": 4,
   "metadata": {
    "collapsed": false
   },
   "outputs": [],
   "source": [
    "#TO DO: \n",
    "# perform exploratory analysis. Clean the data as necessary and use correlation to find relevant features. \n",
    "# check the distributions of the data. Write a sentence about the distribution. "
   ]
  },
  {
   "cell_type": "code",
   "execution_count": 51,
   "metadata": {
    "collapsed": false
   },
   "outputs": [
    {
     "data": {
      "text/html": [
       "<div>\n",
       "<table border=\"1\" class=\"dataframe\">\n",
       "  <thead>\n",
       "    <tr style=\"text-align: right;\">\n",
       "      <th></th>\n",
       "      <th>Country</th>\n",
       "      <th>badteeth</th>\n",
       "      <th>literacy_avg</th>\n",
       "      <th>GDP_avg</th>\n",
       "      <th>sugar_avg</th>\n",
       "      <th>health_avg</th>\n",
       "    </tr>\n",
       "  </thead>\n",
       "  <tbody>\n",
       "    <tr>\n",
       "      <th>0</th>\n",
       "      <td>Saudi Arabia</td>\n",
       "      <td>5.90</td>\n",
       "      <td>80.046624</td>\n",
       "      <td>10460.159370</td>\n",
       "      <td>63.511591</td>\n",
       "      <td>282.826662</td>\n",
       "    </tr>\n",
       "    <tr>\n",
       "      <th>1</th>\n",
       "      <td>Guatemala</td>\n",
       "      <td>5.20</td>\n",
       "      <td>69.723543</td>\n",
       "      <td>1487.355625</td>\n",
       "      <td>97.758182</td>\n",
       "      <td>44.111681</td>\n",
       "    </tr>\n",
       "    <tr>\n",
       "      <th>2</th>\n",
       "      <td>Mauritius</td>\n",
       "      <td>4.90</td>\n",
       "      <td>84.339633</td>\n",
       "      <td>3074.829677</td>\n",
       "      <td>120.550000</td>\n",
       "      <td>100.265111</td>\n",
       "    </tr>\n",
       "    <tr>\n",
       "      <th>3</th>\n",
       "      <td>Brunei</td>\n",
       "      <td>4.80</td>\n",
       "      <td>88.439129</td>\n",
       "      <td>20991.519650</td>\n",
       "      <td>108.220000</td>\n",
       "      <td>549.706067</td>\n",
       "    </tr>\n",
       "    <tr>\n",
       "      <th>4</th>\n",
       "      <td>Bosnia and Herzegovina</td>\n",
       "      <td>4.80</td>\n",
       "      <td>97.332859</td>\n",
       "      <td>1590.190034</td>\n",
       "      <td>45.101538</td>\n",
       "      <td>132.698130</td>\n",
       "    </tr>\n",
       "    <tr>\n",
       "      <th>5</th>\n",
       "      <td>Bolivia</td>\n",
       "      <td>4.70</td>\n",
       "      <td>83.755499</td>\n",
       "      <td>1003.185864</td>\n",
       "      <td>75.776591</td>\n",
       "      <td>39.160258</td>\n",
       "    </tr>\n",
       "    <tr>\n",
       "      <th>6</th>\n",
       "      <td>Gabon</td>\n",
       "      <td>4.40</td>\n",
       "      <td>81.674407</td>\n",
       "      <td>4279.960699</td>\n",
       "      <td>38.482045</td>\n",
       "      <td>73.898363</td>\n",
       "    </tr>\n",
       "    <tr>\n",
       "      <th>7</th>\n",
       "      <td>Bulgaria</td>\n",
       "      <td>4.40</td>\n",
       "      <td>98.278002</td>\n",
       "      <td>1764.217503</td>\n",
       "      <td>88.168636</td>\n",
       "      <td>130.622897</td>\n",
       "    </tr>\n",
       "    <tr>\n",
       "      <th>8</th>\n",
       "      <td>Ukraine</td>\n",
       "      <td>4.40</td>\n",
       "      <td>99.574575</td>\n",
       "      <td>966.073658</td>\n",
       "      <td>114.437692</td>\n",
       "      <td>61.854231</td>\n",
       "    </tr>\n",
       "    <tr>\n",
       "      <th>9</th>\n",
       "      <td>India</td>\n",
       "      <td>3.94</td>\n",
       "      <td>55.101834</td>\n",
       "      <td>341.579042</td>\n",
       "      <td>56.663636</td>\n",
       "      <td>7.254130</td>\n",
       "    </tr>\n",
       "    <tr>\n",
       "      <th>10</th>\n",
       "      <td>Paraguay</td>\n",
       "      <td>3.80</td>\n",
       "      <td>90.700982</td>\n",
       "      <td>1179.063372</td>\n",
       "      <td>59.774091</td>\n",
       "      <td>44.132156</td>\n",
       "    </tr>\n",
       "    <tr>\n",
       "      <th>11</th>\n",
       "      <td>Honduras</td>\n",
       "      <td>3.70</td>\n",
       "      <td>83.369675</td>\n",
       "      <td>1060.410593</td>\n",
       "      <td>89.974091</td>\n",
       "      <td>45.757770</td>\n",
       "    </tr>\n",
       "    <tr>\n",
       "      <th>12</th>\n",
       "      <td>Lithuania</td>\n",
       "      <td>3.60</td>\n",
       "      <td>99.263524</td>\n",
       "      <td>4027.049235</td>\n",
       "      <td>94.203846</td>\n",
       "      <td>292.363316</td>\n",
       "    </tr>\n",
       "    <tr>\n",
       "      <th>13</th>\n",
       "      <td>Panama</td>\n",
       "      <td>3.60</td>\n",
       "      <td>90.711334</td>\n",
       "      <td>3402.295409</td>\n",
       "      <td>89.725000</td>\n",
       "      <td>245.019140</td>\n",
       "    </tr>\n",
       "    <tr>\n",
       "      <th>14</th>\n",
       "      <td>Croatia</td>\n",
       "      <td>3.50</td>\n",
       "      <td>97.909642</td>\n",
       "      <td>5472.736277</td>\n",
       "      <td>132.983077</td>\n",
       "      <td>525.153033</td>\n",
       "    </tr>\n",
       "    <tr>\n",
       "      <th>15</th>\n",
       "      <td>Lebanon</td>\n",
       "      <td>3.40</td>\n",
       "      <td>89.612439</td>\n",
       "      <td>4830.489833</td>\n",
       "      <td>85.926591</td>\n",
       "      <td>180.263118</td>\n",
       "    </tr>\n",
       "    <tr>\n",
       "      <th>16</th>\n",
       "      <td>Latvia</td>\n",
       "      <td>3.40</td>\n",
       "      <td>99.661037</td>\n",
       "      <td>3357.717289</td>\n",
       "      <td>97.365385</td>\n",
       "      <td>241.645727</td>\n",
       "    </tr>\n",
       "    <tr>\n",
       "      <th>17</th>\n",
       "      <td>Chile</td>\n",
       "      <td>3.40</td>\n",
       "      <td>95.667770</td>\n",
       "      <td>3464.026061</td>\n",
       "      <td>105.604546</td>\n",
       "      <td>215.775999</td>\n",
       "    </tr>\n",
       "    <tr>\n",
       "      <th>18</th>\n",
       "      <td>Argentina</td>\n",
       "      <td>3.40</td>\n",
       "      <td>96.273284</td>\n",
       "      <td>7082.771079</td>\n",
       "      <td>111.458182</td>\n",
       "      <td>325.732128</td>\n",
       "    </tr>\n",
       "    <tr>\n",
       "      <th>19</th>\n",
       "      <td>Hungary</td>\n",
       "      <td>3.30</td>\n",
       "      <td>98.979546</td>\n",
       "      <td>3718.550575</td>\n",
       "      <td>114.571591</td>\n",
       "      <td>459.915086</td>\n",
       "    </tr>\n",
       "    <tr>\n",
       "      <th>20</th>\n",
       "      <td>Jordan</td>\n",
       "      <td>3.30</td>\n",
       "      <td>88.079159</td>\n",
       "      <td>1891.887731</td>\n",
       "      <td>97.010909</td>\n",
       "      <td>122.861474</td>\n",
       "    </tr>\n",
       "    <tr>\n",
       "      <th>21</th>\n",
       "      <td>Poland</td>\n",
       "      <td>3.20</td>\n",
       "      <td>99.373388</td>\n",
       "      <td>4566.766426</td>\n",
       "      <td>116.689091</td>\n",
       "      <td>324.620248</td>\n",
       "    </tr>\n",
       "    <tr>\n",
       "      <th>22</th>\n",
       "      <td>Madagascar</td>\n",
       "      <td>3.10</td>\n",
       "      <td>67.583538</td>\n",
       "      <td>315.443682</td>\n",
       "      <td>25.656364</td>\n",
       "      <td>7.480398</td>\n",
       "    </tr>\n",
       "    <tr>\n",
       "      <th>23</th>\n",
       "      <td>Mozambique</td>\n",
       "      <td>3.05</td>\n",
       "      <td>41.138077</td>\n",
       "      <td>233.693024</td>\n",
       "      <td>20.176364</td>\n",
       "      <td>10.393336</td>\n",
       "    </tr>\n",
       "    <tr>\n",
       "      <th>24</th>\n",
       "      <td>Macedonia, FYR</td>\n",
       "      <td>3.03</td>\n",
       "      <td>95.854293</td>\n",
       "      <td>1855.310024</td>\n",
       "      <td>91.463846</td>\n",
       "      <td>139.200958</td>\n",
       "    </tr>\n",
       "    <tr>\n",
       "      <th>25</th>\n",
       "      <td>Albania</td>\n",
       "      <td>3.02</td>\n",
       "      <td>97.165639</td>\n",
       "      <td>1201.566009</td>\n",
       "      <td>49.504318</td>\n",
       "      <td>52.022592</td>\n",
       "    </tr>\n",
       "    <tr>\n",
       "      <th>26</th>\n",
       "      <td>Ecuador</td>\n",
       "      <td>3.00</td>\n",
       "      <td>87.810872</td>\n",
       "      <td>1251.430258</td>\n",
       "      <td>100.747273</td>\n",
       "      <td>49.566965</td>\n",
       "    </tr>\n",
       "    <tr>\n",
       "      <th>27</th>\n",
       "      <td>Russia</td>\n",
       "      <td>2.90</td>\n",
       "      <td>99.037096</td>\n",
       "      <td>2226.695890</td>\n",
       "      <td>107.060769</td>\n",
       "      <td>162.019711</td>\n",
       "    </tr>\n",
       "    <tr>\n",
       "      <th>28</th>\n",
       "      <td>Peru</td>\n",
       "      <td>2.90</td>\n",
       "      <td>87.156296</td>\n",
       "      <td>2145.711572</td>\n",
       "      <td>90.347727</td>\n",
       "      <td>80.703005</td>\n",
       "    </tr>\n",
       "    <tr>\n",
       "      <th>29</th>\n",
       "      <td>Philippines</td>\n",
       "      <td>2.90</td>\n",
       "      <td>91.500396</td>\n",
       "      <td>989.510400</td>\n",
       "      <td>63.200000</td>\n",
       "      <td>16.922464</td>\n",
       "    </tr>\n",
       "    <tr>\n",
       "      <th>...</th>\n",
       "      <td>...</td>\n",
       "      <td>...</td>\n",
       "      <td>...</td>\n",
       "      <td>...</td>\n",
       "      <td>...</td>\n",
       "      <td>...</td>\n",
       "    </tr>\n",
       "    <tr>\n",
       "      <th>91</th>\n",
       "      <td>Iran</td>\n",
       "      <td>1.15</td>\n",
       "      <td>69.277636</td>\n",
       "      <td>1585.797414</td>\n",
       "      <td>71.790455</td>\n",
       "      <td>78.166642</td>\n",
       "    </tr>\n",
       "    <tr>\n",
       "      <th>92</th>\n",
       "      <td>Cyprus</td>\n",
       "      <td>1.14</td>\n",
       "      <td>96.614842</td>\n",
       "      <td>10756.220300</td>\n",
       "      <td>90.161136</td>\n",
       "      <td>485.693231</td>\n",
       "    </tr>\n",
       "    <tr>\n",
       "      <th>93</th>\n",
       "      <td>Libya</td>\n",
       "      <td>1.14</td>\n",
       "      <td>78.257986</td>\n",
       "      <td>6924.944874</td>\n",
       "      <td>93.399091</td>\n",
       "      <td>161.446500</td>\n",
       "    </tr>\n",
       "    <tr>\n",
       "      <th>94</th>\n",
       "      <td>Spain</td>\n",
       "      <td>1.12</td>\n",
       "      <td>96.864720</td>\n",
       "      <td>10286.623690</td>\n",
       "      <td>78.454091</td>\n",
       "      <td>1299.385716</td>\n",
       "    </tr>\n",
       "    <tr>\n",
       "      <th>95</th>\n",
       "      <td>Jamaica</td>\n",
       "      <td>1.10</td>\n",
       "      <td>83.481432</td>\n",
       "      <td>3169.910541</td>\n",
       "      <td>133.751364</td>\n",
       "      <td>99.004910</td>\n",
       "    </tr>\n",
       "    <tr>\n",
       "      <th>96</th>\n",
       "      <td>Italy</td>\n",
       "      <td>1.10</td>\n",
       "      <td>97.952272</td>\n",
       "      <td>14161.119320</td>\n",
       "      <td>82.003182</td>\n",
       "      <td>1705.243078</td>\n",
       "    </tr>\n",
       "    <tr>\n",
       "      <th>97</th>\n",
       "      <td>South Africa</td>\n",
       "      <td>1.05</td>\n",
       "      <td>85.075746</td>\n",
       "      <td>3131.496486</td>\n",
       "      <td>103.487273</td>\n",
       "      <td>147.265819</td>\n",
       "    </tr>\n",
       "    <tr>\n",
       "      <th>98</th>\n",
       "      <td>China</td>\n",
       "      <td>1.03</td>\n",
       "      <td>82.333708</td>\n",
       "      <td>601.806937</td>\n",
       "      <td>13.886818</td>\n",
       "      <td>36.797123</td>\n",
       "    </tr>\n",
       "    <tr>\n",
       "      <th>99</th>\n",
       "      <td>Bangladesh</td>\n",
       "      <td>1.00</td>\n",
       "      <td>42.441705</td>\n",
       "      <td>316.041344</td>\n",
       "      <td>24.037273</td>\n",
       "      <td>34.059621</td>\n",
       "    </tr>\n",
       "    <tr>\n",
       "      <th>100</th>\n",
       "      <td>Burundi</td>\n",
       "      <td>1.00</td>\n",
       "      <td>51.536191</td>\n",
       "      <td>145.877232</td>\n",
       "      <td>4.234545</td>\n",
       "      <td>3.940396</td>\n",
       "    </tr>\n",
       "    <tr>\n",
       "      <th>101</th>\n",
       "      <td>Uganda</td>\n",
       "      <td>0.90</td>\n",
       "      <td>67.208729</td>\n",
       "      <td>247.699035</td>\n",
       "      <td>18.183636</td>\n",
       "      <td>6.102906</td>\n",
       "    </tr>\n",
       "    <tr>\n",
       "      <th>102</th>\n",
       "      <td>Swaziland</td>\n",
       "      <td>0.90</td>\n",
       "      <td>73.017355</td>\n",
       "      <td>1190.583135</td>\n",
       "      <td>115.070000</td>\n",
       "      <td>69.090985</td>\n",
       "    </tr>\n",
       "    <tr>\n",
       "      <th>103</th>\n",
       "      <td>Benin</td>\n",
       "      <td>0.80</td>\n",
       "      <td>26.772001</td>\n",
       "      <td>311.400781</td>\n",
       "      <td>8.469091</td>\n",
       "      <td>11.187499</td>\n",
       "    </tr>\n",
       "    <tr>\n",
       "      <th>104</th>\n",
       "      <td>Congo, Dem. Rep.</td>\n",
       "      <td>0.75</td>\n",
       "      <td>64.189267</td>\n",
       "      <td>218.595696</td>\n",
       "      <td>6.102727</td>\n",
       "      <td>2.155842</td>\n",
       "    </tr>\n",
       "    <tr>\n",
       "      <th>105</th>\n",
       "      <td>Antigua and Barbuda</td>\n",
       "      <td>0.70</td>\n",
       "      <td>98.950000</td>\n",
       "      <td>8806.493107</td>\n",
       "      <td>98.443182</td>\n",
       "      <td>311.499689</td>\n",
       "    </tr>\n",
       "    <tr>\n",
       "      <th>106</th>\n",
       "      <td>Burkina Faso</td>\n",
       "      <td>0.70</td>\n",
       "      <td>18.201399</td>\n",
       "      <td>177.987804</td>\n",
       "      <td>8.220000</td>\n",
       "      <td>10.479612</td>\n",
       "    </tr>\n",
       "    <tr>\n",
       "      <th>107</th>\n",
       "      <td>Malawi</td>\n",
       "      <td>0.70</td>\n",
       "      <td>57.993543</td>\n",
       "      <td>141.504295</td>\n",
       "      <td>24.037273</td>\n",
       "      <td>8.583817</td>\n",
       "    </tr>\n",
       "    <tr>\n",
       "      <th>108</th>\n",
       "      <td>Haiti</td>\n",
       "      <td>0.65</td>\n",
       "      <td>47.387873</td>\n",
       "      <td>411.367494</td>\n",
       "      <td>61.144773</td>\n",
       "      <td>7.299736</td>\n",
       "    </tr>\n",
       "    <tr>\n",
       "      <th>109</th>\n",
       "      <td>Trinidad and Tobago</td>\n",
       "      <td>0.60</td>\n",
       "      <td>97.282913</td>\n",
       "      <td>6049.909228</td>\n",
       "      <td>136.116136</td>\n",
       "      <td>242.717012</td>\n",
       "    </tr>\n",
       "    <tr>\n",
       "      <th>110</th>\n",
       "      <td>Belize</td>\n",
       "      <td>0.60</td>\n",
       "      <td>70.298423</td>\n",
       "      <td>2228.839366</td>\n",
       "      <td>123.600000</td>\n",
       "      <td>96.792424</td>\n",
       "    </tr>\n",
       "    <tr>\n",
       "      <th>111</th>\n",
       "      <td>Nepal</td>\n",
       "      <td>0.50</td>\n",
       "      <td>39.881833</td>\n",
       "      <td>179.641216</td>\n",
       "      <td>5.915909</td>\n",
       "      <td>4.749426</td>\n",
       "    </tr>\n",
       "    <tr>\n",
       "      <th>112</th>\n",
       "      <td>Botswana</td>\n",
       "      <td>0.50</td>\n",
       "      <td>78.286823</td>\n",
       "      <td>1896.809581</td>\n",
       "      <td>55.977727</td>\n",
       "      <td>220.663475</td>\n",
       "    </tr>\n",
       "    <tr>\n",
       "      <th>113</th>\n",
       "      <td>Guinea-Bissau</td>\n",
       "      <td>0.50</td>\n",
       "      <td>38.863732</td>\n",
       "      <td>168.925599</td>\n",
       "      <td>8.469091</td>\n",
       "      <td>4.144188</td>\n",
       "    </tr>\n",
       "    <tr>\n",
       "      <th>114</th>\n",
       "      <td>Nigeria</td>\n",
       "      <td>0.46</td>\n",
       "      <td>53.765864</td>\n",
       "      <td>369.247651</td>\n",
       "      <td>16.751364</td>\n",
       "      <td>14.655615</td>\n",
       "    </tr>\n",
       "    <tr>\n",
       "      <th>115</th>\n",
       "      <td>Ghana</td>\n",
       "      <td>0.40</td>\n",
       "      <td>64.697274</td>\n",
       "      <td>263.170394</td>\n",
       "      <td>15.256818</td>\n",
       "      <td>19.074719</td>\n",
       "    </tr>\n",
       "    <tr>\n",
       "      <th>116</th>\n",
       "      <td>Lesotho</td>\n",
       "      <td>0.40</td>\n",
       "      <td>81.027319</td>\n",
       "      <td>295.950973</td>\n",
       "      <td>43.652045</td>\n",
       "      <td>27.418767</td>\n",
       "    </tr>\n",
       "    <tr>\n",
       "      <th>117</th>\n",
       "      <td>Liberia</td>\n",
       "      <td>0.40</td>\n",
       "      <td>43.321710</td>\n",
       "      <td>447.218705</td>\n",
       "      <td>12.143182</td>\n",
       "      <td>4.275780</td>\n",
       "    </tr>\n",
       "    <tr>\n",
       "      <th>118</th>\n",
       "      <td>Togo</td>\n",
       "      <td>0.30</td>\n",
       "      <td>56.892323</td>\n",
       "      <td>274.684342</td>\n",
       "      <td>12.392273</td>\n",
       "      <td>7.739916</td>\n",
       "    </tr>\n",
       "    <tr>\n",
       "      <th>119</th>\n",
       "      <td>Tanzania</td>\n",
       "      <td>0.30</td>\n",
       "      <td>65.448468</td>\n",
       "      <td>340.232535</td>\n",
       "      <td>17.810000</td>\n",
       "      <td>8.313740</td>\n",
       "    </tr>\n",
       "    <tr>\n",
       "      <th>120</th>\n",
       "      <td>Rwanda</td>\n",
       "      <td>0.30</td>\n",
       "      <td>56.709445</td>\n",
       "      <td>237.139569</td>\n",
       "      <td>2.677727</td>\n",
       "      <td>10.645498</td>\n",
       "    </tr>\n",
       "  </tbody>\n",
       "</table>\n",
       "<p>121 rows × 6 columns</p>\n",
       "</div>"
      ],
      "text/plain": [
       "                    Country  badteeth  literacy_avg       GDP_avg   sugar_avg  \\\n",
       "0              Saudi Arabia      5.90     80.046624  10460.159370   63.511591   \n",
       "1                 Guatemala      5.20     69.723543   1487.355625   97.758182   \n",
       "2                 Mauritius      4.90     84.339633   3074.829677  120.550000   \n",
       "3                    Brunei      4.80     88.439129  20991.519650  108.220000   \n",
       "4    Bosnia and Herzegovina      4.80     97.332859   1590.190034   45.101538   \n",
       "5                   Bolivia      4.70     83.755499   1003.185864   75.776591   \n",
       "6                     Gabon      4.40     81.674407   4279.960699   38.482045   \n",
       "7                  Bulgaria      4.40     98.278002   1764.217503   88.168636   \n",
       "8                   Ukraine      4.40     99.574575    966.073658  114.437692   \n",
       "9                     India      3.94     55.101834    341.579042   56.663636   \n",
       "10                 Paraguay      3.80     90.700982   1179.063372   59.774091   \n",
       "11                 Honduras      3.70     83.369675   1060.410593   89.974091   \n",
       "12                Lithuania      3.60     99.263524   4027.049235   94.203846   \n",
       "13                   Panama      3.60     90.711334   3402.295409   89.725000   \n",
       "14                  Croatia      3.50     97.909642   5472.736277  132.983077   \n",
       "15                  Lebanon      3.40     89.612439   4830.489833   85.926591   \n",
       "16                   Latvia      3.40     99.661037   3357.717289   97.365385   \n",
       "17                    Chile      3.40     95.667770   3464.026061  105.604546   \n",
       "18                Argentina      3.40     96.273284   7082.771079  111.458182   \n",
       "19                  Hungary      3.30     98.979546   3718.550575  114.571591   \n",
       "20                   Jordan      3.30     88.079159   1891.887731   97.010909   \n",
       "21                   Poland      3.20     99.373388   4566.766426  116.689091   \n",
       "22               Madagascar      3.10     67.583538    315.443682   25.656364   \n",
       "23               Mozambique      3.05     41.138077    233.693024   20.176364   \n",
       "24           Macedonia, FYR      3.03     95.854293   1855.310024   91.463846   \n",
       "25                  Albania      3.02     97.165639   1201.566009   49.504318   \n",
       "26                  Ecuador      3.00     87.810872   1251.430258  100.747273   \n",
       "27                   Russia      2.90     99.037096   2226.695890  107.060769   \n",
       "28                     Peru      2.90     87.156296   2145.711572   90.347727   \n",
       "29              Philippines      2.90     91.500396    989.510400   63.200000   \n",
       "..                      ...       ...           ...           ...         ...   \n",
       "91                     Iran      1.15     69.277636   1585.797414   71.790455   \n",
       "92                   Cyprus      1.14     96.614842  10756.220300   90.161136   \n",
       "93                    Libya      1.14     78.257986   6924.944874   93.399091   \n",
       "94                    Spain      1.12     96.864720  10286.623690   78.454091   \n",
       "95                  Jamaica      1.10     83.481432   3169.910541  133.751364   \n",
       "96                    Italy      1.10     97.952272  14161.119320   82.003182   \n",
       "97             South Africa      1.05     85.075746   3131.496486  103.487273   \n",
       "98                    China      1.03     82.333708    601.806937   13.886818   \n",
       "99               Bangladesh      1.00     42.441705    316.041344   24.037273   \n",
       "100                 Burundi      1.00     51.536191    145.877232    4.234545   \n",
       "101                  Uganda      0.90     67.208729    247.699035   18.183636   \n",
       "102               Swaziland      0.90     73.017355   1190.583135  115.070000   \n",
       "103                   Benin      0.80     26.772001    311.400781    8.469091   \n",
       "104        Congo, Dem. Rep.      0.75     64.189267    218.595696    6.102727   \n",
       "105     Antigua and Barbuda      0.70     98.950000   8806.493107   98.443182   \n",
       "106            Burkina Faso      0.70     18.201399    177.987804    8.220000   \n",
       "107                  Malawi      0.70     57.993543    141.504295   24.037273   \n",
       "108                   Haiti      0.65     47.387873    411.367494   61.144773   \n",
       "109     Trinidad and Tobago      0.60     97.282913   6049.909228  136.116136   \n",
       "110                  Belize      0.60     70.298423   2228.839366  123.600000   \n",
       "111                   Nepal      0.50     39.881833    179.641216    5.915909   \n",
       "112                Botswana      0.50     78.286823   1896.809581   55.977727   \n",
       "113           Guinea-Bissau      0.50     38.863732    168.925599    8.469091   \n",
       "114                 Nigeria      0.46     53.765864    369.247651   16.751364   \n",
       "115                   Ghana      0.40     64.697274    263.170394   15.256818   \n",
       "116                 Lesotho      0.40     81.027319    295.950973   43.652045   \n",
       "117                 Liberia      0.40     43.321710    447.218705   12.143182   \n",
       "118                    Togo      0.30     56.892323    274.684342   12.392273   \n",
       "119                Tanzania      0.30     65.448468    340.232535   17.810000   \n",
       "120                  Rwanda      0.30     56.709445    237.139569    2.677727   \n",
       "\n",
       "      health_avg  \n",
       "0     282.826662  \n",
       "1      44.111681  \n",
       "2     100.265111  \n",
       "3     549.706067  \n",
       "4     132.698130  \n",
       "5      39.160258  \n",
       "6      73.898363  \n",
       "7     130.622897  \n",
       "8      61.854231  \n",
       "9       7.254130  \n",
       "10     44.132156  \n",
       "11     45.757770  \n",
       "12    292.363316  \n",
       "13    245.019140  \n",
       "14    525.153033  \n",
       "15    180.263118  \n",
       "16    241.645727  \n",
       "17    215.775999  \n",
       "18    325.732128  \n",
       "19    459.915086  \n",
       "20    122.861474  \n",
       "21    324.620248  \n",
       "22      7.480398  \n",
       "23     10.393336  \n",
       "24    139.200958  \n",
       "25     52.022592  \n",
       "26     49.566965  \n",
       "27    162.019711  \n",
       "28     80.703005  \n",
       "29     16.922464  \n",
       "..           ...  \n",
       "91     78.166642  \n",
       "92    485.693231  \n",
       "93    161.446500  \n",
       "94   1299.385716  \n",
       "95     99.004910  \n",
       "96   1705.243078  \n",
       "97    147.265819  \n",
       "98     36.797123  \n",
       "99     34.059621  \n",
       "100     3.940396  \n",
       "101     6.102906  \n",
       "102    69.090985  \n",
       "103    11.187499  \n",
       "104     2.155842  \n",
       "105   311.499689  \n",
       "106    10.479612  \n",
       "107     8.583817  \n",
       "108     7.299736  \n",
       "109   242.717012  \n",
       "110    96.792424  \n",
       "111     4.749426  \n",
       "112   220.663475  \n",
       "113     4.144188  \n",
       "114    14.655615  \n",
       "115    19.074719  \n",
       "116    27.418767  \n",
       "117     4.275780  \n",
       "118     7.739916  \n",
       "119     8.313740  \n",
       "120    10.645498  \n",
       "\n",
       "[121 rows x 6 columns]"
      ]
     },
     "execution_count": 51,
     "metadata": {},
     "output_type": "execute_result"
    }
   ],
   "source": [
    "df"
   ]
  },
  {
   "cell_type": "code",
   "execution_count": 6,
   "metadata": {
    "collapsed": false
   },
   "outputs": [
    {
     "data": {
      "text/plain": [
       "(121, 6)"
      ]
     },
     "execution_count": 6,
     "metadata": {},
     "output_type": "execute_result"
    }
   ],
   "source": [
    "df.shape"
   ]
  },
  {
   "cell_type": "code",
   "execution_count": 7,
   "metadata": {
    "collapsed": false
   },
   "outputs": [
    {
     "data": {
      "text/plain": [
       "Index([u'Country', u'badteeth', u'literacy_avg', u'GDP_avg', u'sugar_avg',\n",
       "       u'health_avg'],\n",
       "      dtype='object')"
      ]
     },
     "execution_count": 7,
     "metadata": {},
     "output_type": "execute_result"
    }
   ],
   "source": [
    "df.columns"
   ]
  },
  {
   "cell_type": "code",
   "execution_count": 8,
   "metadata": {
    "collapsed": false
   },
   "outputs": [
    {
     "data": {
      "text/html": [
       "<div>\n",
       "<table border=\"1\" class=\"dataframe\">\n",
       "  <thead>\n",
       "    <tr style=\"text-align: right;\">\n",
       "      <th></th>\n",
       "      <th>badteeth</th>\n",
       "      <th>literacy_avg</th>\n",
       "      <th>GDP_avg</th>\n",
       "      <th>sugar_avg</th>\n",
       "      <th>health_avg</th>\n",
       "    </tr>\n",
       "  </thead>\n",
       "  <tbody>\n",
       "    <tr>\n",
       "      <th>count</th>\n",
       "      <td>121.000000</td>\n",
       "      <td>121.000000</td>\n",
       "      <td>121.000000</td>\n",
       "      <td>121.000000</td>\n",
       "      <td>121.000000</td>\n",
       "    </tr>\n",
       "    <tr>\n",
       "      <th>mean</th>\n",
       "      <td>2.078099</td>\n",
       "      <td>78.165821</td>\n",
       "      <td>3038.871018</td>\n",
       "      <td>69.238413</td>\n",
       "      <td>170.912344</td>\n",
       "    </tr>\n",
       "    <tr>\n",
       "      <th>std</th>\n",
       "      <td>1.217042</td>\n",
       "      <td>20.786888</td>\n",
       "      <td>4993.960158</td>\n",
       "      <td>39.086482</td>\n",
       "      <td>279.593892</td>\n",
       "    </tr>\n",
       "    <tr>\n",
       "      <th>min</th>\n",
       "      <td>0.300000</td>\n",
       "      <td>18.201399</td>\n",
       "      <td>139.937213</td>\n",
       "      <td>2.677727</td>\n",
       "      <td>2.155842</td>\n",
       "    </tr>\n",
       "    <tr>\n",
       "      <th>25%</th>\n",
       "      <td>1.180000</td>\n",
       "      <td>66.641822</td>\n",
       "      <td>447.218705</td>\n",
       "      <td>36.740682</td>\n",
       "      <td>16.922464</td>\n",
       "    </tr>\n",
       "    <tr>\n",
       "      <th>50%</th>\n",
       "      <td>1.900000</td>\n",
       "      <td>83.755499</td>\n",
       "      <td>1277.797569</td>\n",
       "      <td>70.110682</td>\n",
       "      <td>66.530291</td>\n",
       "    </tr>\n",
       "    <tr>\n",
       "      <th>75%</th>\n",
       "      <td>2.800000</td>\n",
       "      <td>96.273284</td>\n",
       "      <td>3240.432619</td>\n",
       "      <td>98.567727</td>\n",
       "      <td>180.832570</td>\n",
       "    </tr>\n",
       "    <tr>\n",
       "      <th>max</th>\n",
       "      <td>5.900000</td>\n",
       "      <td>99.763509</td>\n",
       "      <td>38226.277040</td>\n",
       "      <td>156.538636</td>\n",
       "      <td>1705.243078</td>\n",
       "    </tr>\n",
       "  </tbody>\n",
       "</table>\n",
       "</div>"
      ],
      "text/plain": [
       "         badteeth  literacy_avg       GDP_avg   sugar_avg   health_avg\n",
       "count  121.000000    121.000000    121.000000  121.000000   121.000000\n",
       "mean     2.078099     78.165821   3038.871018   69.238413   170.912344\n",
       "std      1.217042     20.786888   4993.960158   39.086482   279.593892\n",
       "min      0.300000     18.201399    139.937213    2.677727     2.155842\n",
       "25%      1.180000     66.641822    447.218705   36.740682    16.922464\n",
       "50%      1.900000     83.755499   1277.797569   70.110682    66.530291\n",
       "75%      2.800000     96.273284   3240.432619   98.567727   180.832570\n",
       "max      5.900000     99.763509  38226.277040  156.538636  1705.243078"
      ]
     },
     "execution_count": 8,
     "metadata": {},
     "output_type": "execute_result"
    }
   ],
   "source": [
    "df.describe()"
   ]
  },
  {
   "cell_type": "code",
   "execution_count": 9,
   "metadata": {
    "collapsed": false
   },
   "outputs": [
    {
     "data": {
      "text/html": [
       "<div>\n",
       "<table border=\"1\" class=\"dataframe\">\n",
       "  <thead>\n",
       "    <tr style=\"text-align: right;\">\n",
       "      <th></th>\n",
       "      <th>badteeth</th>\n",
       "      <th>literacy_avg</th>\n",
       "      <th>GDP_avg</th>\n",
       "      <th>sugar_avg</th>\n",
       "      <th>health_avg</th>\n",
       "    </tr>\n",
       "  </thead>\n",
       "  <tbody>\n",
       "    <tr>\n",
       "      <th>badteeth</th>\n",
       "      <td>1.000000</td>\n",
       "      <td>0.386415</td>\n",
       "      <td>0.130030</td>\n",
       "      <td>0.341168</td>\n",
       "      <td>0.042692</td>\n",
       "    </tr>\n",
       "    <tr>\n",
       "      <th>literacy_avg</th>\n",
       "      <td>0.386415</td>\n",
       "      <td>1.000000</td>\n",
       "      <td>0.270349</td>\n",
       "      <td>0.594290</td>\n",
       "      <td>0.380230</td>\n",
       "    </tr>\n",
       "    <tr>\n",
       "      <th>GDP_avg</th>\n",
       "      <td>0.130030</td>\n",
       "      <td>0.270349</td>\n",
       "      <td>1.000000</td>\n",
       "      <td>0.381424</td>\n",
       "      <td>0.704342</td>\n",
       "    </tr>\n",
       "    <tr>\n",
       "      <th>sugar_avg</th>\n",
       "      <td>0.341168</td>\n",
       "      <td>0.594290</td>\n",
       "      <td>0.381424</td>\n",
       "      <td>1.000000</td>\n",
       "      <td>0.370900</td>\n",
       "    </tr>\n",
       "    <tr>\n",
       "      <th>health_avg</th>\n",
       "      <td>0.042692</td>\n",
       "      <td>0.380230</td>\n",
       "      <td>0.704342</td>\n",
       "      <td>0.370900</td>\n",
       "      <td>1.000000</td>\n",
       "    </tr>\n",
       "  </tbody>\n",
       "</table>\n",
       "</div>"
      ],
      "text/plain": [
       "              badteeth  literacy_avg   GDP_avg  sugar_avg  health_avg\n",
       "badteeth      1.000000      0.386415  0.130030   0.341168    0.042692\n",
       "literacy_avg  0.386415      1.000000  0.270349   0.594290    0.380230\n",
       "GDP_avg       0.130030      0.270349  1.000000   0.381424    0.704342\n",
       "sugar_avg     0.341168      0.594290  0.381424   1.000000    0.370900\n",
       "health_avg    0.042692      0.380230  0.704342   0.370900    1.000000"
      ]
     },
     "execution_count": 9,
     "metadata": {},
     "output_type": "execute_result"
    }
   ],
   "source": [
    "df.corr()"
   ]
  },
  {
   "cell_type": "code",
   "execution_count": 10,
   "metadata": {
    "collapsed": false
   },
   "outputs": [
    {
     "data": {
      "text/plain": [
       "Country         0\n",
       "badteeth        0\n",
       "literacy_avg    0\n",
       "GDP_avg         0\n",
       "sugar_avg       0\n",
       "health_avg      0\n",
       "dtype: int64"
      ]
     },
     "execution_count": 10,
     "metadata": {},
     "output_type": "execute_result"
    }
   ],
   "source": [
    "df.isnull().sum()"
   ]
  },
  {
   "cell_type": "code",
   "execution_count": 11,
   "metadata": {
    "collapsed": false
   },
   "outputs": [
    {
     "data": {
      "text/plain": [
       "<matplotlib.axes._subplots.AxesSubplot at 0x11386d850>"
      ]
     },
     "execution_count": 11,
     "metadata": {},
     "output_type": "execute_result"
    },
    {
     "data": {
      "image/png": "[encoded data removed]",
      "text/plain": [
       "<matplotlib.figure.Figure at 0x113536d50>"
      ]
     },
     "metadata": {},
     "output_type": "display_data"
    }
   ],
   "source": [
    "df.badteeth.plot(kind = 'hist', figsize = (5, 5))"
   ]
  },
  {
   "cell_type": "code",
   "execution_count": 12,
   "metadata": {
    "collapsed": false
   },
   "outputs": [
    {
     "data": {
      "text/plain": [
       "<matplotlib.axes._subplots.AxesSubplot at 0x10b740e50>"
      ]
     },
     "execution_count": 12,
     "metadata": {},
     "output_type": "execute_result"
    },
    {
     "data": {
      "image/png": "[encoded data removed]",
      "text/plain": [
       "<matplotlib.figure.Figure at 0x116c9e210>"
      ]
     },
     "metadata": {},
     "output_type": "display_data"
    }
   ],
   "source": [
    "df.literacy_avg.plot(kind = 'hist', figsize = (5, 5))"
   ]
  },
  {
   "cell_type": "code",
   "execution_count": 13,
   "metadata": {
    "collapsed": false
   },
   "outputs": [
    {
     "data": {
      "text/plain": [
       "<matplotlib.axes._subplots.AxesSubplot at 0x116e9b590>"
      ]
     },
     "execution_count": 13,
     "metadata": {},
     "output_type": "execute_result"
    },
    {
     "data": {
      "image/png": "[encoded data removed]",
      "text/plain": [
       "<matplotlib.figure.Figure at 0x116cfa950>"
      ]
     },
     "metadata": {},
     "output_type": "display_data"
    }
   ],
   "source": [
    "df.GDP_avg.plot(kind = 'hist', figsize = (5, 5))"
   ]
  },
  {
   "cell_type": "code",
   "execution_count": 14,
   "metadata": {
    "collapsed": false
   },
   "outputs": [
    {
     "data": {
      "text/plain": [
       "<matplotlib.axes._subplots.AxesSubplot at 0x11701b310>"
      ]
     },
     "execution_count": 14,
     "metadata": {},
     "output_type": "execute_result"
    },
    {
     "data": {
      "image/png": "[encoded data removed]",
      "text/plain": [
       "<matplotlib.figure.Figure at 0x11703b7d0>"
      ]
     },
     "metadata": {},
     "output_type": "display_data"
    }
   ],
   "source": [
    "df.sugar_avg.plot(kind = 'hist', figsize = (5, 5))"
   ]
  },
  {
   "cell_type": "code",
   "execution_count": 15,
   "metadata": {
    "collapsed": false
   },
   "outputs": [
    {
     "data": {
      "text/plain": [
       "<matplotlib.axes._subplots.AxesSubplot at 0x1171d63d0>"
      ]
     },
     "execution_count": 15,
     "metadata": {},
     "output_type": "execute_result"
    },
    {
     "data": {
      "image/png": "[encoded data removed]",
      "text/plain": [
       "<matplotlib.figure.Figure at 0x11717c550>"
      ]
     },
     "metadata": {},
     "output_type": "display_data"
    }
   ],
   "source": [
    "df.health_avg.plot(kind = 'hist', figsize = (5, 5))"
   ]
  },
  {
   "cell_type": "code",
   "execution_count": 16,
   "metadata": {
    "collapsed": false
   },
   "outputs": [
    {
     "data": {
      "text/plain": [
       "array([[<matplotlib.axes._subplots.AxesSubplot object at 0x116d7e390>,\n",
       "        <matplotlib.axes._subplots.AxesSubplot object at 0x1173c2950>,\n",
       "        <matplotlib.axes._subplots.AxesSubplot object at 0x11752cb50>,\n",
       "        <matplotlib.axes._subplots.AxesSubplot object at 0x11759c6d0>,\n",
       "        <matplotlib.axes._subplots.AxesSubplot object at 0x117624810>],\n",
       "       [<matplotlib.axes._subplots.AxesSubplot object at 0x117696290>,\n",
       "        <matplotlib.axes._subplots.AxesSubplot object at 0x11771b590>,\n",
       "        <matplotlib.axes._subplots.AxesSubplot object at 0x117777590>,\n",
       "        <matplotlib.axes._subplots.AxesSubplot object at 0x1177fb790>,\n",
       "        <matplotlib.axes._subplots.AxesSubplot object at 0x117809e50>],\n",
       "       [<matplotlib.axes._subplots.AxesSubplot object at 0x1178f0950>,\n",
       "        <matplotlib.axes._subplots.AxesSubplot object at 0x1179788d0>,\n",
       "        <matplotlib.axes._subplots.AxesSubplot object at 0x1179e96d0>,\n",
       "        <matplotlib.axes._subplots.AxesSubplot object at 0x117a70750>,\n",
       "        <matplotlib.axes._subplots.AxesSubplot object at 0x117ad4fd0>],\n",
       "       [<matplotlib.axes._subplots.AxesSubplot object at 0x117b67150>,\n",
       "        <matplotlib.axes._subplots.AxesSubplot object at 0x117bcf910>,\n",
       "        <matplotlib.axes._subplots.AxesSubplot object at 0x117c55bd0>,\n",
       "        <matplotlib.axes._subplots.AxesSubplot object at 0x117cc7690>,\n",
       "        <matplotlib.axes._subplots.AxesSubplot object at 0x117d4d950>],\n",
       "       [<matplotlib.axes._subplots.AxesSubplot object at 0x117cd6b90>,\n",
       "        <matplotlib.axes._subplots.AxesSubplot object at 0x117e43950>,\n",
       "        <matplotlib.axes._subplots.AxesSubplot object at 0x117e72bd0>,\n",
       "        <matplotlib.axes._subplots.AxesSubplot object at 0x117f3b6d0>,\n",
       "        <matplotlib.axes._subplots.AxesSubplot object at 0x117fc3650>]], dtype=object)"
      ]
     },
     "execution_count": 16,
     "metadata": {},
     "output_type": "execute_result"
    },
    {
     "data": {
      "image/png": "[encoded data removed]",
      "text/plain": [
       "<matplotlib.figure.Figure at 0x116f4e410>"
      ]
     },
     "metadata": {},
     "output_type": "display_data"
    }
   ],
   "source": [
    "pd.tools.plotting.scatter_matrix(\n",
    "    df[ ['badteeth', 'literacy_avg', 'GDP_avg', 'sugar_avg', 'health_avg'] ],\n",
    "    diagonal = 'kde', s = 75, figsize = (12, 12))"
   ]
  },
  {
   "cell_type": "markdown",
   "metadata": {},
   "source": [
    "### Exercises:\n",
    "##### --Double click this cell to answer-- \n",
    "\n",
    "1)  Describe the features of the data set. Did you find anything unique to them?\n",
    "\n",
    "Answer: The features of the data set include: the average literacy rate, the average GDP, the average amount of sugar, and the average number of dollars spent on health per person. We did not find anything particularly unique to them. They are all continous variables. \n",
    "\n",
    "2)  Describe the correlations you found. \n",
    "\n",
    "Answer: \n",
    "-The highest correlations are between health & GDP(.704342) and literacy & sugar(.594290).\n",
    "-The best predictator of bad teeth is the average literacy rate. \n",
    "\n",
    "3)  Describe the distributions of the data. \n",
    "\n",
    "Answer: See graphs above. \n",
    "\n",
    "4)  Describe any assumptions you are making. How will these affect your research?\n",
    "\n",
    "Answer: We are not making any assumptions at this time. \n",
    "\n",
    "1) In your own words, explain the difference between correlation and regression. Explain a few advantages and disadvantages to each. Compare results with your table: \n",
    "\n",
    "Answer:  Correlation is measuring a linear relationship whereas regression can express non-linear relationships in additional to linear. \n",
    "\n",
    "Advantage of correlation: \n",
    "-Quick and easy\n",
    "-Gives you surface level information. \n",
    "\n",
    "Advantage of regression: \n",
    "-Gives you statistical significance. \n",
    "-Allows you to look a non-linear relationships across multiple variables.\n"
   ]
  },
  {
   "cell_type": "markdown",
   "metadata": {},
   "source": [
    "# Hypothesis\n",
    "You've seen the data. What are the features and what is the output? Explain your hypotheses here: \n",
    "\n",
    "\n",
    "### H0: Bad teeth are not positively related to literacy, sugar, and GDP. \n",
    "\n",
    "### H1: Bad teeth are positively related to literacy, sugar, and GDP. \n",
    "\n"
   ]
  },
  {
   "cell_type": "markdown",
   "metadata": {},
   "source": [
    "# Build your models "
   ]
  },
  {
   "cell_type": "code",
   "execution_count": 48,
   "metadata": {
    "collapsed": true
   },
   "outputs": [],
   "source": [
    "from sklearn import linear_model\n",
    "from sklearn.ensemble import RandomForestClassifier\n",
    "from sklearn.neighbors import KNeighborsRegressor\n",
    "from sklearn.model_selection import  train_test_split\n",
    "\n",
    "import statsmodels.api as sm\n",
    "import statsmodels.formula.api as smf"
   ]
  },
  {
   "cell_type": "code",
   "execution_count": 72,
   "metadata": {
    "collapsed": true
   },
   "outputs": [],
   "source": [
    "X = df[['literacy_avg', \n",
    "        'GDP_avg', \n",
    "        'sugar_avg', \n",
    "        'health_avg'\n",
    "       ] ]\n"
   ]
  },
  {
   "cell_type": "code",
   "execution_count": 53,
   "metadata": {
    "collapsed": false
   },
   "outputs": [
    {
     "data": {
      "text/html": [
       "<div>\n",
       "<table border=\"1\" class=\"dataframe\">\n",
       "  <thead>\n",
       "    <tr style=\"text-align: right;\">\n",
       "      <th></th>\n",
       "      <th>literacy_avg</th>\n",
       "      <th>GDP_avg</th>\n",
       "      <th>sugar_avg</th>\n",
       "      <th>health_avg</th>\n",
       "    </tr>\n",
       "  </thead>\n",
       "  <tbody>\n",
       "    <tr>\n",
       "      <th>0</th>\n",
       "      <td>80.046624</td>\n",
       "      <td>10460.159370</td>\n",
       "      <td>63.511591</td>\n",
       "      <td>282.826662</td>\n",
       "    </tr>\n",
       "    <tr>\n",
       "      <th>1</th>\n",
       "      <td>69.723543</td>\n",
       "      <td>1487.355625</td>\n",
       "      <td>97.758182</td>\n",
       "      <td>44.111681</td>\n",
       "    </tr>\n",
       "    <tr>\n",
       "      <th>2</th>\n",
       "      <td>84.339633</td>\n",
       "      <td>3074.829677</td>\n",
       "      <td>120.550000</td>\n",
       "      <td>100.265111</td>\n",
       "    </tr>\n",
       "    <tr>\n",
       "      <th>3</th>\n",
       "      <td>88.439129</td>\n",
       "      <td>20991.519650</td>\n",
       "      <td>108.220000</td>\n",
       "      <td>549.706067</td>\n",
       "    </tr>\n",
       "    <tr>\n",
       "      <th>4</th>\n",
       "      <td>97.332859</td>\n",
       "      <td>1590.190034</td>\n",
       "      <td>45.101538</td>\n",
       "      <td>132.698130</td>\n",
       "    </tr>\n",
       "    <tr>\n",
       "      <th>5</th>\n",
       "      <td>83.755499</td>\n",
       "      <td>1003.185864</td>\n",
       "      <td>75.776591</td>\n",
       "      <td>39.160258</td>\n",
       "    </tr>\n",
       "    <tr>\n",
       "      <th>6</th>\n",
       "      <td>81.674407</td>\n",
       "      <td>4279.960699</td>\n",
       "      <td>38.482045</td>\n",
       "      <td>73.898363</td>\n",
       "    </tr>\n",
       "    <tr>\n",
       "      <th>7</th>\n",
       "      <td>98.278002</td>\n",
       "      <td>1764.217503</td>\n",
       "      <td>88.168636</td>\n",
       "      <td>130.622897</td>\n",
       "    </tr>\n",
       "    <tr>\n",
       "      <th>8</th>\n",
       "      <td>99.574575</td>\n",
       "      <td>966.073658</td>\n",
       "      <td>114.437692</td>\n",
       "      <td>61.854231</td>\n",
       "    </tr>\n",
       "    <tr>\n",
       "      <th>9</th>\n",
       "      <td>55.101834</td>\n",
       "      <td>341.579042</td>\n",
       "      <td>56.663636</td>\n",
       "      <td>7.254130</td>\n",
       "    </tr>\n",
       "    <tr>\n",
       "      <th>10</th>\n",
       "      <td>90.700982</td>\n",
       "      <td>1179.063372</td>\n",
       "      <td>59.774091</td>\n",
       "      <td>44.132156</td>\n",
       "    </tr>\n",
       "    <tr>\n",
       "      <th>11</th>\n",
       "      <td>83.369675</td>\n",
       "      <td>1060.410593</td>\n",
       "      <td>89.974091</td>\n",
       "      <td>45.757770</td>\n",
       "    </tr>\n",
       "    <tr>\n",
       "      <th>12</th>\n",
       "      <td>99.263524</td>\n",
       "      <td>4027.049235</td>\n",
       "      <td>94.203846</td>\n",
       "      <td>292.363316</td>\n",
       "    </tr>\n",
       "    <tr>\n",
       "      <th>13</th>\n",
       "      <td>90.711334</td>\n",
       "      <td>3402.295409</td>\n",
       "      <td>89.725000</td>\n",
       "      <td>245.019140</td>\n",
       "    </tr>\n",
       "    <tr>\n",
       "      <th>14</th>\n",
       "      <td>97.909642</td>\n",
       "      <td>5472.736277</td>\n",
       "      <td>132.983077</td>\n",
       "      <td>525.153033</td>\n",
       "    </tr>\n",
       "    <tr>\n",
       "      <th>15</th>\n",
       "      <td>89.612439</td>\n",
       "      <td>4830.489833</td>\n",
       "      <td>85.926591</td>\n",
       "      <td>180.263118</td>\n",
       "    </tr>\n",
       "    <tr>\n",
       "      <th>16</th>\n",
       "      <td>99.661037</td>\n",
       "      <td>3357.717289</td>\n",
       "      <td>97.365385</td>\n",
       "      <td>241.645727</td>\n",
       "    </tr>\n",
       "    <tr>\n",
       "      <th>17</th>\n",
       "      <td>95.667770</td>\n",
       "      <td>3464.026061</td>\n",
       "      <td>105.604546</td>\n",
       "      <td>215.775999</td>\n",
       "    </tr>\n",
       "    <tr>\n",
       "      <th>18</th>\n",
       "      <td>96.273284</td>\n",
       "      <td>7082.771079</td>\n",
       "      <td>111.458182</td>\n",
       "      <td>325.732128</td>\n",
       "    </tr>\n",
       "    <tr>\n",
       "      <th>19</th>\n",
       "      <td>98.979546</td>\n",
       "      <td>3718.550575</td>\n",
       "      <td>114.571591</td>\n",
       "      <td>459.915086</td>\n",
       "    </tr>\n",
       "    <tr>\n",
       "      <th>20</th>\n",
       "      <td>88.079159</td>\n",
       "      <td>1891.887731</td>\n",
       "      <td>97.010909</td>\n",
       "      <td>122.861474</td>\n",
       "    </tr>\n",
       "    <tr>\n",
       "      <th>21</th>\n",
       "      <td>99.373388</td>\n",
       "      <td>4566.766426</td>\n",
       "      <td>116.689091</td>\n",
       "      <td>324.620248</td>\n",
       "    </tr>\n",
       "    <tr>\n",
       "      <th>22</th>\n",
       "      <td>67.583538</td>\n",
       "      <td>315.443682</td>\n",
       "      <td>25.656364</td>\n",
       "      <td>7.480398</td>\n",
       "    </tr>\n",
       "    <tr>\n",
       "      <th>23</th>\n",
       "      <td>41.138077</td>\n",
       "      <td>233.693024</td>\n",
       "      <td>20.176364</td>\n",
       "      <td>10.393336</td>\n",
       "    </tr>\n",
       "    <tr>\n",
       "      <th>24</th>\n",
       "      <td>95.854293</td>\n",
       "      <td>1855.310024</td>\n",
       "      <td>91.463846</td>\n",
       "      <td>139.200958</td>\n",
       "    </tr>\n",
       "    <tr>\n",
       "      <th>25</th>\n",
       "      <td>97.165639</td>\n",
       "      <td>1201.566009</td>\n",
       "      <td>49.504318</td>\n",
       "      <td>52.022592</td>\n",
       "    </tr>\n",
       "    <tr>\n",
       "      <th>26</th>\n",
       "      <td>87.810872</td>\n",
       "      <td>1251.430258</td>\n",
       "      <td>100.747273</td>\n",
       "      <td>49.566965</td>\n",
       "    </tr>\n",
       "    <tr>\n",
       "      <th>27</th>\n",
       "      <td>99.037096</td>\n",
       "      <td>2226.695890</td>\n",
       "      <td>107.060769</td>\n",
       "      <td>162.019711</td>\n",
       "    </tr>\n",
       "    <tr>\n",
       "      <th>28</th>\n",
       "      <td>87.156296</td>\n",
       "      <td>2145.711572</td>\n",
       "      <td>90.347727</td>\n",
       "      <td>80.703005</td>\n",
       "    </tr>\n",
       "    <tr>\n",
       "      <th>29</th>\n",
       "      <td>91.500396</td>\n",
       "      <td>989.510400</td>\n",
       "      <td>63.200000</td>\n",
       "      <td>16.922464</td>\n",
       "    </tr>\n",
       "    <tr>\n",
       "      <th>...</th>\n",
       "      <td>...</td>\n",
       "      <td>...</td>\n",
       "      <td>...</td>\n",
       "      <td>...</td>\n",
       "    </tr>\n",
       "    <tr>\n",
       "      <th>91</th>\n",
       "      <td>69.277636</td>\n",
       "      <td>1585.797414</td>\n",
       "      <td>71.790455</td>\n",
       "      <td>78.166642</td>\n",
       "    </tr>\n",
       "    <tr>\n",
       "      <th>92</th>\n",
       "      <td>96.614842</td>\n",
       "      <td>10756.220300</td>\n",
       "      <td>90.161136</td>\n",
       "      <td>485.693231</td>\n",
       "    </tr>\n",
       "    <tr>\n",
       "      <th>93</th>\n",
       "      <td>78.257986</td>\n",
       "      <td>6924.944874</td>\n",
       "      <td>93.399091</td>\n",
       "      <td>161.446500</td>\n",
       "    </tr>\n",
       "    <tr>\n",
       "      <th>94</th>\n",
       "      <td>96.864720</td>\n",
       "      <td>10286.623690</td>\n",
       "      <td>78.454091</td>\n",
       "      <td>1299.385716</td>\n",
       "    </tr>\n",
       "    <tr>\n",
       "      <th>95</th>\n",
       "      <td>83.481432</td>\n",
       "      <td>3169.910541</td>\n",
       "      <td>133.751364</td>\n",
       "      <td>99.004910</td>\n",
       "    </tr>\n",
       "    <tr>\n",
       "      <th>96</th>\n",
       "      <td>97.952272</td>\n",
       "      <td>14161.119320</td>\n",
       "      <td>82.003182</td>\n",
       "      <td>1705.243078</td>\n",
       "    </tr>\n",
       "    <tr>\n",
       "      <th>97</th>\n",
       "      <td>85.075746</td>\n",
       "      <td>3131.496486</td>\n",
       "      <td>103.487273</td>\n",
       "      <td>147.265819</td>\n",
       "    </tr>\n",
       "    <tr>\n",
       "      <th>98</th>\n",
       "      <td>82.333708</td>\n",
       "      <td>601.806937</td>\n",
       "      <td>13.886818</td>\n",
       "      <td>36.797123</td>\n",
       "    </tr>\n",
       "    <tr>\n",
       "      <th>99</th>\n",
       "      <td>42.441705</td>\n",
       "      <td>316.041344</td>\n",
       "      <td>24.037273</td>\n",
       "      <td>34.059621</td>\n",
       "    </tr>\n",
       "    <tr>\n",
       "      <th>100</th>\n",
       "      <td>51.536191</td>\n",
       "      <td>145.877232</td>\n",
       "      <td>4.234545</td>\n",
       "      <td>3.940396</td>\n",
       "    </tr>\n",
       "    <tr>\n",
       "      <th>101</th>\n",
       "      <td>67.208729</td>\n",
       "      <td>247.699035</td>\n",
       "      <td>18.183636</td>\n",
       "      <td>6.102906</td>\n",
       "    </tr>\n",
       "    <tr>\n",
       "      <th>102</th>\n",
       "      <td>73.017355</td>\n",
       "      <td>1190.583135</td>\n",
       "      <td>115.070000</td>\n",
       "      <td>69.090985</td>\n",
       "    </tr>\n",
       "    <tr>\n",
       "      <th>103</th>\n",
       "      <td>26.772001</td>\n",
       "      <td>311.400781</td>\n",
       "      <td>8.469091</td>\n",
       "      <td>11.187499</td>\n",
       "    </tr>\n",
       "    <tr>\n",
       "      <th>104</th>\n",
       "      <td>64.189267</td>\n",
       "      <td>218.595696</td>\n",
       "      <td>6.102727</td>\n",
       "      <td>2.155842</td>\n",
       "    </tr>\n",
       "    <tr>\n",
       "      <th>105</th>\n",
       "      <td>98.950000</td>\n",
       "      <td>8806.493107</td>\n",
       "      <td>98.443182</td>\n",
       "      <td>311.499689</td>\n",
       "    </tr>\n",
       "    <tr>\n",
       "      <th>106</th>\n",
       "      <td>18.201399</td>\n",
       "      <td>177.987804</td>\n",
       "      <td>8.220000</td>\n",
       "      <td>10.479612</td>\n",
       "    </tr>\n",
       "    <tr>\n",
       "      <th>107</th>\n",
       "      <td>57.993543</td>\n",
       "      <td>141.504295</td>\n",
       "      <td>24.037273</td>\n",
       "      <td>8.583817</td>\n",
       "    </tr>\n",
       "    <tr>\n",
       "      <th>108</th>\n",
       "      <td>47.387873</td>\n",
       "      <td>411.367494</td>\n",
       "      <td>61.144773</td>\n",
       "      <td>7.299736</td>\n",
       "    </tr>\n",
       "    <tr>\n",
       "      <th>109</th>\n",
       "      <td>97.282913</td>\n",
       "      <td>6049.909228</td>\n",
       "      <td>136.116136</td>\n",
       "      <td>242.717012</td>\n",
       "    </tr>\n",
       "    <tr>\n",
       "      <th>110</th>\n",
       "      <td>70.298423</td>\n",
       "      <td>2228.839366</td>\n",
       "      <td>123.600000</td>\n",
       "      <td>96.792424</td>\n",
       "    </tr>\n",
       "    <tr>\n",
       "      <th>111</th>\n",
       "      <td>39.881833</td>\n",
       "      <td>179.641216</td>\n",
       "      <td>5.915909</td>\n",
       "      <td>4.749426</td>\n",
       "    </tr>\n",
       "    <tr>\n",
       "      <th>112</th>\n",
       "      <td>78.286823</td>\n",
       "      <td>1896.809581</td>\n",
       "      <td>55.977727</td>\n",
       "      <td>220.663475</td>\n",
       "    </tr>\n",
       "    <tr>\n",
       "      <th>113</th>\n",
       "      <td>38.863732</td>\n",
       "      <td>168.925599</td>\n",
       "      <td>8.469091</td>\n",
       "      <td>4.144188</td>\n",
       "    </tr>\n",
       "    <tr>\n",
       "      <th>114</th>\n",
       "      <td>53.765864</td>\n",
       "      <td>369.247651</td>\n",
       "      <td>16.751364</td>\n",
       "      <td>14.655615</td>\n",
       "    </tr>\n",
       "    <tr>\n",
       "      <th>115</th>\n",
       "      <td>64.697274</td>\n",
       "      <td>263.170394</td>\n",
       "      <td>15.256818</td>\n",
       "      <td>19.074719</td>\n",
       "    </tr>\n",
       "    <tr>\n",
       "      <th>116</th>\n",
       "      <td>81.027319</td>\n",
       "      <td>295.950973</td>\n",
       "      <td>43.652045</td>\n",
       "      <td>27.418767</td>\n",
       "    </tr>\n",
       "    <tr>\n",
       "      <th>117</th>\n",
       "      <td>43.321710</td>\n",
       "      <td>447.218705</td>\n",
       "      <td>12.143182</td>\n",
       "      <td>4.275780</td>\n",
       "    </tr>\n",
       "    <tr>\n",
       "      <th>118</th>\n",
       "      <td>56.892323</td>\n",
       "      <td>274.684342</td>\n",
       "      <td>12.392273</td>\n",
       "      <td>7.739916</td>\n",
       "    </tr>\n",
       "    <tr>\n",
       "      <th>119</th>\n",
       "      <td>65.448468</td>\n",
       "      <td>340.232535</td>\n",
       "      <td>17.810000</td>\n",
       "      <td>8.313740</td>\n",
       "    </tr>\n",
       "    <tr>\n",
       "      <th>120</th>\n",
       "      <td>56.709445</td>\n",
       "      <td>237.139569</td>\n",
       "      <td>2.677727</td>\n",
       "      <td>10.645498</td>\n",
       "    </tr>\n",
       "  </tbody>\n",
       "</table>\n",
       "<p>121 rows × 4 columns</p>\n",
       "</div>"
      ],
      "text/plain": [
       "     literacy_avg       GDP_avg   sugar_avg   health_avg\n",
       "0       80.046624  10460.159370   63.511591   282.826662\n",
       "1       69.723543   1487.355625   97.758182    44.111681\n",
       "2       84.339633   3074.829677  120.550000   100.265111\n",
       "3       88.439129  20991.519650  108.220000   549.706067\n",
       "4       97.332859   1590.190034   45.101538   132.698130\n",
       "5       83.755499   1003.185864   75.776591    39.160258\n",
       "6       81.674407   4279.960699   38.482045    73.898363\n",
       "7       98.278002   1764.217503   88.168636   130.622897\n",
       "8       99.574575    966.073658  114.437692    61.854231\n",
       "9       55.101834    341.579042   56.663636     7.254130\n",
       "10      90.700982   1179.063372   59.774091    44.132156\n",
       "11      83.369675   1060.410593   89.974091    45.757770\n",
       "12      99.263524   4027.049235   94.203846   292.363316\n",
       "13      90.711334   3402.295409   89.725000   245.019140\n",
       "14      97.909642   5472.736277  132.983077   525.153033\n",
       "15      89.612439   4830.489833   85.926591   180.263118\n",
       "16      99.661037   3357.717289   97.365385   241.645727\n",
       "17      95.667770   3464.026061  105.604546   215.775999\n",
       "18      96.273284   7082.771079  111.458182   325.732128\n",
       "19      98.979546   3718.550575  114.571591   459.915086\n",
       "20      88.079159   1891.887731   97.010909   122.861474\n",
       "21      99.373388   4566.766426  116.689091   324.620248\n",
       "22      67.583538    315.443682   25.656364     7.480398\n",
       "23      41.138077    233.693024   20.176364    10.393336\n",
       "24      95.854293   1855.310024   91.463846   139.200958\n",
       "25      97.165639   1201.566009   49.504318    52.022592\n",
       "26      87.810872   1251.430258  100.747273    49.566965\n",
       "27      99.037096   2226.695890  107.060769   162.019711\n",
       "28      87.156296   2145.711572   90.347727    80.703005\n",
       "29      91.500396    989.510400   63.200000    16.922464\n",
       "..            ...           ...         ...          ...\n",
       "91      69.277636   1585.797414   71.790455    78.166642\n",
       "92      96.614842  10756.220300   90.161136   485.693231\n",
       "93      78.257986   6924.944874   93.399091   161.446500\n",
       "94      96.864720  10286.623690   78.454091  1299.385716\n",
       "95      83.481432   3169.910541  133.751364    99.004910\n",
       "96      97.952272  14161.119320   82.003182  1705.243078\n",
       "97      85.075746   3131.496486  103.487273   147.265819\n",
       "98      82.333708    601.806937   13.886818    36.797123\n",
       "99      42.441705    316.041344   24.037273    34.059621\n",
       "100     51.536191    145.877232    4.234545     3.940396\n",
       "101     67.208729    247.699035   18.183636     6.102906\n",
       "102     73.017355   1190.583135  115.070000    69.090985\n",
       "103     26.772001    311.400781    8.469091    11.187499\n",
       "104     64.189267    218.595696    6.102727     2.155842\n",
       "105     98.950000   8806.493107   98.443182   311.499689\n",
       "106     18.201399    177.987804    8.220000    10.479612\n",
       "107     57.993543    141.504295   24.037273     8.583817\n",
       "108     47.387873    411.367494   61.144773     7.299736\n",
       "109     97.282913   6049.909228  136.116136   242.717012\n",
       "110     70.298423   2228.839366  123.600000    96.792424\n",
       "111     39.881833    179.641216    5.915909     4.749426\n",
       "112     78.286823   1896.809581   55.977727   220.663475\n",
       "113     38.863732    168.925599    8.469091     4.144188\n",
       "114     53.765864    369.247651   16.751364    14.655615\n",
       "115     64.697274    263.170394   15.256818    19.074719\n",
       "116     81.027319    295.950973   43.652045    27.418767\n",
       "117     43.321710    447.218705   12.143182     4.275780\n",
       "118     56.892323    274.684342   12.392273     7.739916\n",
       "119     65.448468    340.232535   17.810000     8.313740\n",
       "120     56.709445    237.139569    2.677727    10.645498\n",
       "\n",
       "[121 rows x 4 columns]"
      ]
     },
     "execution_count": 53,
     "metadata": {},
     "output_type": "execute_result"
    }
   ],
   "source": [
    "X"
   ]
  },
  {
   "cell_type": "code",
   "execution_count": 73,
   "metadata": {
    "collapsed": true
   },
   "outputs": [],
   "source": [
    "c = df.badteeth"
   ]
  },
  {
   "cell_type": "code",
   "execution_count": 21,
   "metadata": {
    "collapsed": false
   },
   "outputs": [
    {
     "data": {
      "text/plain": [
       "0      5.90\n",
       "1      5.20\n",
       "2      4.90\n",
       "3      4.80\n",
       "4      4.80\n",
       "5      4.70\n",
       "6      4.40\n",
       "7      4.40\n",
       "8      4.40\n",
       "9      3.94\n",
       "10     3.80\n",
       "11     3.70\n",
       "12     3.60\n",
       "13     3.60\n",
       "14     3.50\n",
       "15     3.40\n",
       "16     3.40\n",
       "17     3.40\n",
       "18     3.40\n",
       "19     3.30\n",
       "20     3.30\n",
       "21     3.20\n",
       "22     3.10\n",
       "23     3.05\n",
       "24     3.03\n",
       "25     3.02\n",
       "26     3.00\n",
       "27     2.90\n",
       "28     2.90\n",
       "29     2.90\n",
       "       ... \n",
       "91     1.15\n",
       "92     1.14\n",
       "93     1.14\n",
       "94     1.12\n",
       "95     1.10\n",
       "96     1.10\n",
       "97     1.05\n",
       "98     1.03\n",
       "99     1.00\n",
       "100    1.00\n",
       "101    0.90\n",
       "102    0.90\n",
       "103    0.80\n",
       "104    0.75\n",
       "105    0.70\n",
       "106    0.70\n",
       "107    0.70\n",
       "108    0.65\n",
       "109    0.60\n",
       "110    0.60\n",
       "111    0.50\n",
       "112    0.50\n",
       "113    0.50\n",
       "114    0.46\n",
       "115    0.40\n",
       "116    0.40\n",
       "117    0.40\n",
       "118    0.30\n",
       "119    0.30\n",
       "120    0.30\n",
       "Name: badteeth, dtype: float64"
      ]
     },
     "execution_count": 21,
     "metadata": {},
     "output_type": "execute_result"
    }
   ],
   "source": [
    "c"
   ]
  },
  {
   "cell_type": "code",
   "execution_count": 74,
   "metadata": {
    "collapsed": false
   },
   "outputs": [
    {
     "name": "stdout",
     "output_type": "stream",
     "text": [
      "[ 0.41122276  0.18764188  0.21683046 -0.31698827]\n",
      "2.07809917355\n"
     ]
    }
   ],
   "source": [
    "model = linear_model.LinearRegression().fit(X, c)\n",
    "\n",
    "print model.coef_\n",
    "print model.intercept_"
   ]
  },
  {
   "cell_type": "code",
   "execution_count": 75,
   "metadata": {
    "collapsed": false
   },
   "outputs": [
    {
     "data": {
      "text/plain": [
       "0.20027629280569492"
      ]
     },
     "execution_count": 75,
     "metadata": {},
     "output_type": "execute_result"
    }
   ],
   "source": [
    "model.score(X,c)\n"
   ]
  },
  {
   "cell_type": "code",
   "execution_count": 61,
   "metadata": {
    "collapsed": false
   },
   "outputs": [
    {
     "data": {
      "text/html": [
       "<table class=\"simpletable\">\n",
       "<caption>OLS Regression Results</caption>\n",
       "<tr>\n",
       "  <th>Dep. Variable:</th>        <td>badteeth</td>     <th>  R-squared:         </th> <td>   0.200</td>\n",
       "</tr>\n",
       "<tr>\n",
       "  <th>Model:</th>                   <td>OLS</td>       <th>  Adj. R-squared:    </th> <td>   0.173</td>\n",
       "</tr>\n",
       "<tr>\n",
       "  <th>Method:</th>             <td>Least Squares</td>  <th>  F-statistic:       </th> <td>   7.263</td>\n",
       "</tr>\n",
       "<tr>\n",
       "  <th>Date:</th>             <td>Wed, 14 Jun 2017</td> <th>  Prob (F-statistic):</th> <td>2.96e-05</td>\n",
       "</tr>\n",
       "<tr>\n",
       "  <th>Time:</th>                 <td>20:28:32</td>     <th>  Log-Likelihood:    </th> <td> -181.44</td>\n",
       "</tr>\n",
       "<tr>\n",
       "  <th>No. Observations:</th>      <td>   121</td>      <th>  AIC:               </th> <td>   372.9</td>\n",
       "</tr>\n",
       "<tr>\n",
       "  <th>Df Residuals:</th>          <td>   116</td>      <th>  BIC:               </th> <td>   386.9</td>\n",
       "</tr>\n",
       "<tr>\n",
       "  <th>Df Model:</th>              <td>     4</td>      <th>                     </th>     <td> </td>   \n",
       "</tr>\n",
       "<tr>\n",
       "  <th>Covariance Type:</th>      <td>nonrobust</td>    <th>                     </th>     <td> </td>   \n",
       "</tr>\n",
       "</table>\n",
       "<table class=\"simpletable\">\n",
       "<tr>\n",
       "        <td></td>          <th>coef</th>     <th>std err</th>      <th>t</th>      <th>P>|t|</th> <th>[95.0% Conf. Int.]</th> \n",
       "</tr>\n",
       "<tr>\n",
       "  <th>Intercept</th>    <td>    0.2273</td> <td>    0.407</td> <td>    0.559</td> <td> 0.577</td> <td>   -0.578     1.033</td>\n",
       "</tr>\n",
       "<tr>\n",
       "  <th>literacy_avg</th> <td>    0.0198</td> <td>    0.006</td> <td>    3.177</td> <td> 0.002</td> <td>    0.007     0.032</td>\n",
       "</tr>\n",
       "<tr>\n",
       "  <th>GDP_avg</th>      <td> 3.757e-05</td> <td> 2.92e-05</td> <td>    1.288</td> <td> 0.200</td> <td>-2.02e-05  9.53e-05</td>\n",
       "</tr>\n",
       "<tr>\n",
       "  <th>sugar_avg</th>    <td>    0.0055</td> <td>    0.003</td> <td>    1.654</td> <td> 0.101</td> <td>   -0.001     0.012</td>\n",
       "</tr>\n",
       "<tr>\n",
       "  <th>health_avg</th>   <td>   -0.0011</td> <td>    0.001</td> <td>   -2.139</td> <td> 0.035</td> <td>   -0.002  -8.4e-05</td>\n",
       "</tr>\n",
       "</table>\n",
       "<table class=\"simpletable\">\n",
       "<tr>\n",
       "  <th>Omnibus:</th>       <td>12.970</td> <th>  Durbin-Watson:     </th> <td>   0.374</td>\n",
       "</tr>\n",
       "<tr>\n",
       "  <th>Prob(Omnibus):</th> <td> 0.002</td> <th>  Jarque-Bera (JB):  </th> <td>  13.736</td>\n",
       "</tr>\n",
       "<tr>\n",
       "  <th>Skew:</th>          <td> 0.763</td> <th>  Prob(JB):          </th> <td> 0.00104</td>\n",
       "</tr>\n",
       "<tr>\n",
       "  <th>Kurtosis:</th>      <td> 3.628</td> <th>  Cond. No.          </th> <td>2.36e+04</td>\n",
       "</tr>\n",
       "</table>"
      ],
      "text/plain": [
       "<class 'statsmodels.iolib.summary.Summary'>\n",
       "\"\"\"\n",
       "                            OLS Regression Results                            \n",
       "==============================================================================\n",
       "Dep. Variable:               badteeth   R-squared:                       0.200\n",
       "Model:                            OLS   Adj. R-squared:                  0.173\n",
       "Method:                 Least Squares   F-statistic:                     7.263\n",
       "Date:                Wed, 14 Jun 2017   Prob (F-statistic):           2.96e-05\n",
       "Time:                        20:28:32   Log-Likelihood:                -181.44\n",
       "No. Observations:                 121   AIC:                             372.9\n",
       "Df Residuals:                     116   BIC:                             386.9\n",
       "Df Model:                           4                                         \n",
       "Covariance Type:            nonrobust                                         \n",
       "================================================================================\n",
       "                   coef    std err          t      P>|t|      [95.0% Conf. Int.]\n",
       "--------------------------------------------------------------------------------\n",
       "Intercept        0.2273      0.407      0.559      0.577        -0.578     1.033\n",
       "literacy_avg     0.0198      0.006      3.177      0.002         0.007     0.032\n",
       "GDP_avg       3.757e-05   2.92e-05      1.288      0.200     -2.02e-05  9.53e-05\n",
       "sugar_avg        0.0055      0.003      1.654      0.101        -0.001     0.012\n",
       "health_avg      -0.0011      0.001     -2.139      0.035        -0.002  -8.4e-05\n",
       "==============================================================================\n",
       "Omnibus:                       12.970   Durbin-Watson:                   0.374\n",
       "Prob(Omnibus):                  0.002   Jarque-Bera (JB):               13.736\n",
       "Skew:                           0.763   Prob(JB):                      0.00104\n",
       "Kurtosis:                       3.628   Cond. No.                     2.36e+04\n",
       "==============================================================================\n",
       "\n",
       "Warnings:\n",
       "[1] Standard Errors assume that the covariance matrix of the errors is correctly specified.\n",
       "[2] The condition number is large, 2.36e+04. This might indicate that there are\n",
       "strong multicollinearity or other numerical problems.\n",
       "\"\"\""
      ]
     },
     "execution_count": 61,
     "metadata": {},
     "output_type": "execute_result"
    }
   ],
   "source": [
    "model = smf.ols(formula = 'badteeth ~ literacy_avg + GDP_avg + sugar_avg + health_avg', data = df).fit()\n",
    "\n",
    "model.summary()"
   ]
  },
  {
   "cell_type": "code",
   "execution_count": 64,
   "metadata": {
    "collapsed": false
   },
   "outputs": [
    {
     "data": {
      "text/html": [
       "<table class=\"simpletable\">\n",
       "<caption>OLS Regression Results</caption>\n",
       "<tr>\n",
       "  <th>Dep. Variable:</th>        <td>badteeth</td>     <th>  R-squared:         </th> <td>   0.189</td>\n",
       "</tr>\n",
       "<tr>\n",
       "  <th>Model:</th>                   <td>OLS</td>       <th>  Adj. R-squared:    </th> <td>   0.168</td>\n",
       "</tr>\n",
       "<tr>\n",
       "  <th>Method:</th>             <td>Least Squares</td>  <th>  F-statistic:       </th> <td>   9.079</td>\n",
       "</tr>\n",
       "<tr>\n",
       "  <th>Date:</th>             <td>Wed, 14 Jun 2017</td> <th>  Prob (F-statistic):</th> <td>1.88e-05</td>\n",
       "</tr>\n",
       "<tr>\n",
       "  <th>Time:</th>                 <td>20:33:09</td>     <th>  Log-Likelihood:    </th> <td> -182.29</td>\n",
       "</tr>\n",
       "<tr>\n",
       "  <th>No. Observations:</th>      <td>   121</td>      <th>  AIC:               </th> <td>   372.6</td>\n",
       "</tr>\n",
       "<tr>\n",
       "  <th>Df Residuals:</th>          <td>   117</td>      <th>  BIC:               </th> <td>   383.8</td>\n",
       "</tr>\n",
       "<tr>\n",
       "  <th>Df Model:</th>              <td>     3</td>      <th>                     </th>     <td> </td>   \n",
       "</tr>\n",
       "<tr>\n",
       "  <th>Covariance Type:</th>      <td>nonrobust</td>    <th>                     </th>     <td> </td>   \n",
       "</tr>\n",
       "</table>\n",
       "<table class=\"simpletable\">\n",
       "<tr>\n",
       "        <td></td>          <th>coef</th>     <th>std err</th>      <th>t</th>      <th>P>|t|</th> <th>[95.0% Conf. Int.]</th> \n",
       "</tr>\n",
       "<tr>\n",
       "  <th>Intercept</th>    <td>    0.2703</td> <td>    0.406</td> <td>    0.665</td> <td> 0.507</td> <td>   -0.535     1.075</td>\n",
       "</tr>\n",
       "<tr>\n",
       "  <th>literacy_avg</th> <td>    0.0189</td> <td>    0.006</td> <td>    3.045</td> <td> 0.003</td> <td>    0.007     0.031</td>\n",
       "</tr>\n",
       "<tr>\n",
       "  <th>sugar_avg</th>    <td>    0.0065</td> <td>    0.003</td> <td>    1.967</td> <td> 0.052</td> <td>-4.47e-05     0.013</td>\n",
       "</tr>\n",
       "<tr>\n",
       "  <th>health_avg</th>   <td>   -0.0007</td> <td>    0.000</td> <td>   -1.711</td> <td> 0.090</td> <td>   -0.001     0.000</td>\n",
       "</tr>\n",
       "</table>\n",
       "<table class=\"simpletable\">\n",
       "<tr>\n",
       "  <th>Omnibus:</th>       <td>16.624</td> <th>  Durbin-Watson:     </th> <td>   0.351</td>\n",
       "</tr>\n",
       "<tr>\n",
       "  <th>Prob(Omnibus):</th> <td> 0.000</td> <th>  Jarque-Bera (JB):  </th> <td>  19.035</td>\n",
       "</tr>\n",
       "<tr>\n",
       "  <th>Skew:</th>          <td> 0.859</td> <th>  Prob(JB):          </th> <td>7.36e-05</td>\n",
       "</tr>\n",
       "<tr>\n",
       "  <th>Kurtosis:</th>      <td> 3.906</td> <th>  Cond. No.          </th> <td>1.35e+03</td>\n",
       "</tr>\n",
       "</table>"
      ],
      "text/plain": [
       "<class 'statsmodels.iolib.summary.Summary'>\n",
       "\"\"\"\n",
       "                            OLS Regression Results                            \n",
       "==============================================================================\n",
       "Dep. Variable:               badteeth   R-squared:                       0.189\n",
       "Model:                            OLS   Adj. R-squared:                  0.168\n",
       "Method:                 Least Squares   F-statistic:                     9.079\n",
       "Date:                Wed, 14 Jun 2017   Prob (F-statistic):           1.88e-05\n",
       "Time:                        20:33:09   Log-Likelihood:                -182.29\n",
       "No. Observations:                 121   AIC:                             372.6\n",
       "Df Residuals:                     117   BIC:                             383.8\n",
       "Df Model:                           3                                         \n",
       "Covariance Type:            nonrobust                                         \n",
       "================================================================================\n",
       "                   coef    std err          t      P>|t|      [95.0% Conf. Int.]\n",
       "--------------------------------------------------------------------------------\n",
       "Intercept        0.2703      0.406      0.665      0.507        -0.535     1.075\n",
       "literacy_avg     0.0189      0.006      3.045      0.003         0.007     0.031\n",
       "sugar_avg        0.0065      0.003      1.967      0.052     -4.47e-05     0.013\n",
       "health_avg      -0.0007      0.000     -1.711      0.090        -0.001     0.000\n",
       "==============================================================================\n",
       "Omnibus:                       16.624   Durbin-Watson:                   0.351\n",
       "Prob(Omnibus):                  0.000   Jarque-Bera (JB):               19.035\n",
       "Skew:                           0.859   Prob(JB):                     7.36e-05\n",
       "Kurtosis:                       3.906   Cond. No.                     1.35e+03\n",
       "==============================================================================\n",
       "\n",
       "Warnings:\n",
       "[1] Standard Errors assume that the covariance matrix of the errors is correctly specified.\n",
       "[2] The condition number is large, 1.35e+03. This might indicate that there are\n",
       "strong multicollinearity or other numerical problems.\n",
       "\"\"\""
      ]
     },
     "execution_count": 64,
     "metadata": {},
     "output_type": "execute_result"
    }
   ],
   "source": [
    "model = smf.ols(formula = 'badteeth ~ literacy_avg + sugar_avg + health_avg', data = df).fit()\n",
    "\n",
    "model.summary()"
   ]
  },
  {
   "cell_type": "code",
   "execution_count": 65,
   "metadata": {
    "collapsed": false
   },
   "outputs": [
    {
     "data": {
      "text/html": [
       "<table class=\"simpletable\">\n",
       "<caption>OLS Regression Results</caption>\n",
       "<tr>\n",
       "  <th>Dep. Variable:</th>        <td>badteeth</td>     <th>  R-squared:         </th> <td>   0.169</td>\n",
       "</tr>\n",
       "<tr>\n",
       "  <th>Model:</th>                   <td>OLS</td>       <th>  Adj. R-squared:    </th> <td>   0.154</td>\n",
       "</tr>\n",
       "<tr>\n",
       "  <th>Method:</th>             <td>Least Squares</td>  <th>  F-statistic:       </th> <td>   11.96</td>\n",
       "</tr>\n",
       "<tr>\n",
       "  <th>Date:</th>             <td>Wed, 14 Jun 2017</td> <th>  Prob (F-statistic):</th> <td>1.86e-05</td>\n",
       "</tr>\n",
       "<tr>\n",
       "  <th>Time:</th>                 <td>20:33:41</td>     <th>  Log-Likelihood:    </th> <td> -183.79</td>\n",
       "</tr>\n",
       "<tr>\n",
       "  <th>No. Observations:</th>      <td>   121</td>      <th>  AIC:               </th> <td>   373.6</td>\n",
       "</tr>\n",
       "<tr>\n",
       "  <th>Df Residuals:</th>          <td>   118</td>      <th>  BIC:               </th> <td>   382.0</td>\n",
       "</tr>\n",
       "<tr>\n",
       "  <th>Df Model:</th>              <td>     2</td>      <th>                     </th>     <td> </td>   \n",
       "</tr>\n",
       "<tr>\n",
       "  <th>Covariance Type:</th>      <td>nonrobust</td>    <th>                     </th>     <td> </td>   \n",
       "</tr>\n",
       "</table>\n",
       "<table class=\"simpletable\">\n",
       "<tr>\n",
       "        <td></td>          <th>coef</th>     <th>std err</th>      <th>t</th>      <th>P>|t|</th> <th>[95.0% Conf. Int.]</th> \n",
       "</tr>\n",
       "<tr>\n",
       "  <th>Intercept</th>    <td>    0.4069</td> <td>    0.402</td> <td>    1.013</td> <td> 0.313</td> <td>   -0.389     1.202</td>\n",
       "</tr>\n",
       "<tr>\n",
       "  <th>literacy_avg</th> <td>    0.0166</td> <td>    0.006</td> <td>    2.721</td> <td> 0.008</td> <td>    0.005     0.029</td>\n",
       "</tr>\n",
       "<tr>\n",
       "  <th>sugar_avg</th>    <td>    0.0054</td> <td>    0.003</td> <td>    1.652</td> <td> 0.101</td> <td>   -0.001     0.012</td>\n",
       "</tr>\n",
       "</table>\n",
       "<table class=\"simpletable\">\n",
       "<tr>\n",
       "  <th>Omnibus:</th>       <td>16.086</td> <th>  Durbin-Watson:     </th> <td>   0.305</td>\n",
       "</tr>\n",
       "<tr>\n",
       "  <th>Prob(Omnibus):</th> <td> 0.000</td> <th>  Jarque-Bera (JB):  </th> <td>  18.044</td>\n",
       "</tr>\n",
       "<tr>\n",
       "  <th>Skew:</th>          <td> 0.869</td> <th>  Prob(JB):          </th> <td>0.000121</td>\n",
       "</tr>\n",
       "<tr>\n",
       "  <th>Kurtosis:</th>      <td> 3.747</td> <th>  Cond. No.          </th> <td>    438.</td>\n",
       "</tr>\n",
       "</table>"
      ],
      "text/plain": [
       "<class 'statsmodels.iolib.summary.Summary'>\n",
       "\"\"\"\n",
       "                            OLS Regression Results                            \n",
       "==============================================================================\n",
       "Dep. Variable:               badteeth   R-squared:                       0.169\n",
       "Model:                            OLS   Adj. R-squared:                  0.154\n",
       "Method:                 Least Squares   F-statistic:                     11.96\n",
       "Date:                Wed, 14 Jun 2017   Prob (F-statistic):           1.86e-05\n",
       "Time:                        20:33:41   Log-Likelihood:                -183.79\n",
       "No. Observations:                 121   AIC:                             373.6\n",
       "Df Residuals:                     118   BIC:                             382.0\n",
       "Df Model:                           2                                         \n",
       "Covariance Type:            nonrobust                                         \n",
       "================================================================================\n",
       "                   coef    std err          t      P>|t|      [95.0% Conf. Int.]\n",
       "--------------------------------------------------------------------------------\n",
       "Intercept        0.4069      0.402      1.013      0.313        -0.389     1.202\n",
       "literacy_avg     0.0166      0.006      2.721      0.008         0.005     0.029\n",
       "sugar_avg        0.0054      0.003      1.652      0.101        -0.001     0.012\n",
       "==============================================================================\n",
       "Omnibus:                       16.086   Durbin-Watson:                   0.305\n",
       "Prob(Omnibus):                  0.000   Jarque-Bera (JB):               18.044\n",
       "Skew:                           0.869   Prob(JB):                     0.000121\n",
       "Kurtosis:                       3.747   Cond. No.                         438.\n",
       "==============================================================================\n",
       "\n",
       "Warnings:\n",
       "[1] Standard Errors assume that the covariance matrix of the errors is correctly specified.\n",
       "\"\"\""
      ]
     },
     "execution_count": 65,
     "metadata": {},
     "output_type": "execute_result"
    }
   ],
   "source": [
    "model = smf.ols(formula = 'badteeth ~ literacy_avg + sugar_avg', data = df).fit()\n",
    "\n",
    "model.summary()"
   ]
  },
  {
   "cell_type": "code",
   "execution_count": 66,
   "metadata": {
    "collapsed": false
   },
   "outputs": [
    {
     "data": {
      "text/html": [
       "<table class=\"simpletable\">\n",
       "<caption>OLS Regression Results</caption>\n",
       "<tr>\n",
       "  <th>Dep. Variable:</th>        <td>badteeth</td>     <th>  R-squared:         </th> <td>   0.149</td>\n",
       "</tr>\n",
       "<tr>\n",
       "  <th>Model:</th>                   <td>OLS</td>       <th>  Adj. R-squared:    </th> <td>   0.142</td>\n",
       "</tr>\n",
       "<tr>\n",
       "  <th>Method:</th>             <td>Least Squares</td>  <th>  F-statistic:       </th> <td>   20.89</td>\n",
       "</tr>\n",
       "<tr>\n",
       "  <th>Date:</th>             <td>Wed, 14 Jun 2017</td> <th>  Prob (F-statistic):</th> <td>1.20e-05</td>\n",
       "</tr>\n",
       "<tr>\n",
       "  <th>Time:</th>                 <td>20:34:12</td>     <th>  Log-Likelihood:    </th> <td> -185.17</td>\n",
       "</tr>\n",
       "<tr>\n",
       "  <th>No. Observations:</th>      <td>   121</td>      <th>  AIC:               </th> <td>   374.3</td>\n",
       "</tr>\n",
       "<tr>\n",
       "  <th>Df Residuals:</th>          <td>   119</td>      <th>  BIC:               </th> <td>   379.9</td>\n",
       "</tr>\n",
       "<tr>\n",
       "  <th>Df Model:</th>              <td>     1</td>      <th>                     </th>     <td> </td>   \n",
       "</tr>\n",
       "<tr>\n",
       "  <th>Covariance Type:</th>      <td>nonrobust</td>    <th>                     </th>     <td> </td>   \n",
       "</tr>\n",
       "</table>\n",
       "<table class=\"simpletable\">\n",
       "<tr>\n",
       "        <td></td>          <th>coef</th>     <th>std err</th>      <th>t</th>      <th>P>|t|</th> <th>[95.0% Conf. Int.]</th> \n",
       "</tr>\n",
       "<tr>\n",
       "  <th>Intercept</th>    <td>    0.3097</td> <td>    0.400</td> <td>    0.774</td> <td> 0.441</td> <td>   -0.483     1.102</td>\n",
       "</tr>\n",
       "<tr>\n",
       "  <th>literacy_avg</th> <td>    0.0226</td> <td>    0.005</td> <td>    4.570</td> <td> 0.000</td> <td>    0.013     0.032</td>\n",
       "</tr>\n",
       "</table>\n",
       "<table class=\"simpletable\">\n",
       "<tr>\n",
       "  <th>Omnibus:</th>       <td>16.390</td> <th>  Durbin-Watson:     </th> <td>   0.287</td>\n",
       "</tr>\n",
       "<tr>\n",
       "  <th>Prob(Omnibus):</th> <td> 0.000</td> <th>  Jarque-Bera (JB):  </th> <td>  18.452</td>\n",
       "</tr>\n",
       "<tr>\n",
       "  <th>Skew:</th>          <td> 0.894</td> <th>  Prob(JB):          </th> <td>9.84e-05</td>\n",
       "</tr>\n",
       "<tr>\n",
       "  <th>Kurtosis:</th>      <td> 3.681</td> <th>  Cond. No.          </th> <td>    316.</td>\n",
       "</tr>\n",
       "</table>"
      ],
      "text/plain": [
       "<class 'statsmodels.iolib.summary.Summary'>\n",
       "\"\"\"\n",
       "                            OLS Regression Results                            \n",
       "==============================================================================\n",
       "Dep. Variable:               badteeth   R-squared:                       0.149\n",
       "Model:                            OLS   Adj. R-squared:                  0.142\n",
       "Method:                 Least Squares   F-statistic:                     20.89\n",
       "Date:                Wed, 14 Jun 2017   Prob (F-statistic):           1.20e-05\n",
       "Time:                        20:34:12   Log-Likelihood:                -185.17\n",
       "No. Observations:                 121   AIC:                             374.3\n",
       "Df Residuals:                     119   BIC:                             379.9\n",
       "Df Model:                           1                                         \n",
       "Covariance Type:            nonrobust                                         \n",
       "================================================================================\n",
       "                   coef    std err          t      P>|t|      [95.0% Conf. Int.]\n",
       "--------------------------------------------------------------------------------\n",
       "Intercept        0.3097      0.400      0.774      0.441        -0.483     1.102\n",
       "literacy_avg     0.0226      0.005      4.570      0.000         0.013     0.032\n",
       "==============================================================================\n",
       "Omnibus:                       16.390   Durbin-Watson:                   0.287\n",
       "Prob(Omnibus):                  0.000   Jarque-Bera (JB):               18.452\n",
       "Skew:                           0.894   Prob(JB):                     9.84e-05\n",
       "Kurtosis:                       3.681   Cond. No.                         316.\n",
       "==============================================================================\n",
       "\n",
       "Warnings:\n",
       "[1] Standard Errors assume that the covariance matrix of the errors is correctly specified.\n",
       "\"\"\""
      ]
     },
     "execution_count": 66,
     "metadata": {},
     "output_type": "execute_result"
    }
   ],
   "source": [
    "model = smf.ols(formula = 'badteeth ~ literacy_avg', data = df).fit()\n",
    "\n",
    "model.summary()"
   ]
  },
  {
   "cell_type": "markdown",
   "metadata": {},
   "source": [
    "Will taking the log help improve our model?\n",
    "Findings: Taking the log did not help"
   ]
  },
  {
   "cell_type": "code",
   "execution_count": 79,
   "metadata": {
    "collapsed": false
   },
   "outputs": [],
   "source": [
    "#LOG\n",
    "\n",
    "df['Log_GDP_avg'] = np.log10(df.GDP_avg)"
   ]
  },
  {
   "cell_type": "code",
   "execution_count": 81,
   "metadata": {
    "collapsed": true
   },
   "outputs": [],
   "source": [
    "df['Log_Health_avg'] = np.log10(df.health_avg)"
   ]
  },
  {
   "cell_type": "code",
   "execution_count": 84,
   "metadata": {
    "collapsed": false
   },
   "outputs": [
    {
     "data": {
      "text/html": [
       "<table class=\"simpletable\">\n",
       "<caption>OLS Regression Results</caption>\n",
       "<tr>\n",
       "  <th>Dep. Variable:</th>        <td>badteeth</td>     <th>  R-squared:         </th> <td>   0.183</td>\n",
       "</tr>\n",
       "<tr>\n",
       "  <th>Model:</th>                   <td>OLS</td>       <th>  Adj. R-squared:    </th> <td>   0.155</td>\n",
       "</tr>\n",
       "<tr>\n",
       "  <th>Method:</th>             <td>Least Squares</td>  <th>  F-statistic:       </th> <td>   6.496</td>\n",
       "</tr>\n",
       "<tr>\n",
       "  <th>Date:</th>             <td>Wed, 14 Jun 2017</td> <th>  Prob (F-statistic):</th> <td>9.41e-05</td>\n",
       "</tr>\n",
       "<tr>\n",
       "  <th>Time:</th>                 <td>20:49:01</td>     <th>  Log-Likelihood:    </th> <td> -182.73</td>\n",
       "</tr>\n",
       "<tr>\n",
       "  <th>No. Observations:</th>      <td>   121</td>      <th>  AIC:               </th> <td>   375.5</td>\n",
       "</tr>\n",
       "<tr>\n",
       "  <th>Df Residuals:</th>          <td>   116</td>      <th>  BIC:               </th> <td>   389.4</td>\n",
       "</tr>\n",
       "<tr>\n",
       "  <th>Df Model:</th>              <td>     4</td>      <th>                     </th>     <td> </td>   \n",
       "</tr>\n",
       "<tr>\n",
       "  <th>Covariance Type:</th>      <td>nonrobust</td>    <th>                     </th>     <td> </td>   \n",
       "</tr>\n",
       "</table>\n",
       "<table class=\"simpletable\">\n",
       "<tr>\n",
       "         <td></td>           <th>coef</th>     <th>std err</th>      <th>t</th>      <th>P>|t|</th> <th>[95.0% Conf. Int.]</th> \n",
       "</tr>\n",
       "<tr>\n",
       "  <th>Intercept</th>      <td>   -0.9851</td> <td>    1.063</td> <td>   -0.927</td> <td> 0.356</td> <td>   -3.090     1.120</td>\n",
       "</tr>\n",
       "<tr>\n",
       "  <th>literacy_avg</th>   <td>    0.0174</td> <td>    0.007</td> <td>    2.542</td> <td> 0.012</td> <td>    0.004     0.031</td>\n",
       "</tr>\n",
       "<tr>\n",
       "  <th>Log_GDP_avg</th>    <td>    0.7756</td> <td>    0.545</td> <td>    1.423</td> <td> 0.157</td> <td>   -0.304     1.855</td>\n",
       "</tr>\n",
       "<tr>\n",
       "  <th>sugar_avg</th>      <td>    0.0045</td> <td>    0.004</td> <td>    1.106</td> <td> 0.271</td> <td>   -0.004     0.012</td>\n",
       "</tr>\n",
       "<tr>\n",
       "  <th>Log_Health_avg</th> <td>   -0.5829</td> <td>    0.452</td> <td>   -1.290</td> <td> 0.200</td> <td>   -1.478     0.312</td>\n",
       "</tr>\n",
       "</table>\n",
       "<table class=\"simpletable\">\n",
       "<tr>\n",
       "  <th>Omnibus:</th>       <td>12.086</td> <th>  Durbin-Watson:     </th> <td>   0.318</td>\n",
       "</tr>\n",
       "<tr>\n",
       "  <th>Prob(Omnibus):</th> <td> 0.002</td> <th>  Jarque-Bera (JB):  </th> <td>  12.653</td>\n",
       "</tr>\n",
       "<tr>\n",
       "  <th>Skew:</th>          <td> 0.762</td> <th>  Prob(JB):          </th> <td> 0.00179</td>\n",
       "</tr>\n",
       "<tr>\n",
       "  <th>Kurtosis:</th>      <td> 3.430</td> <th>  Cond. No.          </th> <td>1.35e+03</td>\n",
       "</tr>\n",
       "</table>"
      ],
      "text/plain": [
       "<class 'statsmodels.iolib.summary.Summary'>\n",
       "\"\"\"\n",
       "                            OLS Regression Results                            \n",
       "==============================================================================\n",
       "Dep. Variable:               badteeth   R-squared:                       0.183\n",
       "Model:                            OLS   Adj. R-squared:                  0.155\n",
       "Method:                 Least Squares   F-statistic:                     6.496\n",
       "Date:                Wed, 14 Jun 2017   Prob (F-statistic):           9.41e-05\n",
       "Time:                        20:49:01   Log-Likelihood:                -182.73\n",
       "No. Observations:                 121   AIC:                             375.5\n",
       "Df Residuals:                     116   BIC:                             389.4\n",
       "Df Model:                           4                                         \n",
       "Covariance Type:            nonrobust                                         \n",
       "==================================================================================\n",
       "                     coef    std err          t      P>|t|      [95.0% Conf. Int.]\n",
       "----------------------------------------------------------------------------------\n",
       "Intercept         -0.9851      1.063     -0.927      0.356        -3.090     1.120\n",
       "literacy_avg       0.0174      0.007      2.542      0.012         0.004     0.031\n",
       "Log_GDP_avg        0.7756      0.545      1.423      0.157        -0.304     1.855\n",
       "sugar_avg          0.0045      0.004      1.106      0.271        -0.004     0.012\n",
       "Log_Health_avg    -0.5829      0.452     -1.290      0.200        -1.478     0.312\n",
       "==============================================================================\n",
       "Omnibus:                       12.086   Durbin-Watson:                   0.318\n",
       "Prob(Omnibus):                  0.002   Jarque-Bera (JB):               12.653\n",
       "Skew:                           0.762   Prob(JB):                      0.00179\n",
       "Kurtosis:                       3.430   Cond. No.                     1.35e+03\n",
       "==============================================================================\n",
       "\n",
       "Warnings:\n",
       "[1] Standard Errors assume that the covariance matrix of the errors is correctly specified.\n",
       "[2] The condition number is large, 1.35e+03. This might indicate that there are\n",
       "strong multicollinearity or other numerical problems.\n",
       "\"\"\""
      ]
     },
     "execution_count": 84,
     "metadata": {},
     "output_type": "execute_result"
    }
   ],
   "source": [
    "model = smf.ols(formula = 'badteeth ~ literacy_avg + Log_GDP_avg + sugar_avg + Log_Health_avg', data = df).fit()\n",
    "\n",
    "model.summary()"
   ]
  },
  {
   "cell_type": "code",
   "execution_count": 67,
   "metadata": {
    "collapsed": true
   },
   "outputs": [],
   "source": [
    "df['literacy_avg'] =(df.literacy_avg-df.literacy_avg.mean())/df.literacy_avg.std()"
   ]
  },
  {
   "cell_type": "code",
   "execution_count": 68,
   "metadata": {
    "collapsed": true
   },
   "outputs": [],
   "source": [
    "df['GDP_avg'] =(df.GDP_avg-df.GDP_avg.mean())/df.GDP_avg.std()"
   ]
  },
  {
   "cell_type": "code",
   "execution_count": 69,
   "metadata": {
    "collapsed": true
   },
   "outputs": [],
   "source": [
    "df['sugar_avg'] =(df.sugar_avg-df.sugar_avg.mean())/df.sugar_avg.std()"
   ]
  },
  {
   "cell_type": "code",
   "execution_count": 70,
   "metadata": {
    "collapsed": true
   },
   "outputs": [],
   "source": [
    "df['health_avg'] =(df.health_avg-df.health_avg.mean())/df.health_avg.std()"
   ]
  },
  {
   "cell_type": "code",
   "execution_count": 82,
   "metadata": {
    "collapsed": false
   },
   "outputs": [
    {
     "data": {
      "text/html": [
       "<div>\n",
       "<table border=\"1\" class=\"dataframe\">\n",
       "  <thead>\n",
       "    <tr style=\"text-align: right;\">\n",
       "      <th></th>\n",
       "      <th>Country</th>\n",
       "      <th>badteeth</th>\n",
       "      <th>literacy_avg</th>\n",
       "      <th>GDP_avg</th>\n",
       "      <th>sugar_avg</th>\n",
       "      <th>health_avg</th>\n",
       "      <th>Log_GDP_avg</th>\n",
       "      <th>Log_Health_avg</th>\n",
       "    </tr>\n",
       "  </thead>\n",
       "  <tbody>\n",
       "    <tr>\n",
       "      <th>0</th>\n",
       "      <td>Saudi Arabia</td>\n",
       "      <td>5.9</td>\n",
       "      <td>80.046624</td>\n",
       "      <td>10460.159370</td>\n",
       "      <td>63.511591</td>\n",
       "      <td>282.826662</td>\n",
       "      <td>4.019538</td>\n",
       "      <td>2.451520</td>\n",
       "    </tr>\n",
       "    <tr>\n",
       "      <th>1</th>\n",
       "      <td>Guatemala</td>\n",
       "      <td>5.2</td>\n",
       "      <td>69.723543</td>\n",
       "      <td>1487.355625</td>\n",
       "      <td>97.758182</td>\n",
       "      <td>44.111681</td>\n",
       "      <td>3.172415</td>\n",
       "      <td>1.644554</td>\n",
       "    </tr>\n",
       "    <tr>\n",
       "      <th>2</th>\n",
       "      <td>Mauritius</td>\n",
       "      <td>4.9</td>\n",
       "      <td>84.339633</td>\n",
       "      <td>3074.829677</td>\n",
       "      <td>120.550000</td>\n",
       "      <td>100.265111</td>\n",
       "      <td>3.487821</td>\n",
       "      <td>2.001150</td>\n",
       "    </tr>\n",
       "    <tr>\n",
       "      <th>3</th>\n",
       "      <td>Brunei</td>\n",
       "      <td>4.8</td>\n",
       "      <td>88.439129</td>\n",
       "      <td>20991.519650</td>\n",
       "      <td>108.220000</td>\n",
       "      <td>549.706067</td>\n",
       "      <td>4.322044</td>\n",
       "      <td>2.740131</td>\n",
       "    </tr>\n",
       "    <tr>\n",
       "      <th>4</th>\n",
       "      <td>Bosnia and Herzegovina</td>\n",
       "      <td>4.8</td>\n",
       "      <td>97.332859</td>\n",
       "      <td>1590.190034</td>\n",
       "      <td>45.101538</td>\n",
       "      <td>132.698130</td>\n",
       "      <td>3.201449</td>\n",
       "      <td>2.122865</td>\n",
       "    </tr>\n",
       "  </tbody>\n",
       "</table>\n",
       "</div>"
      ],
      "text/plain": [
       "                  Country  badteeth  literacy_avg       GDP_avg   sugar_avg  \\\n",
       "0            Saudi Arabia       5.9     80.046624  10460.159370   63.511591   \n",
       "1               Guatemala       5.2     69.723543   1487.355625   97.758182   \n",
       "2               Mauritius       4.9     84.339633   3074.829677  120.550000   \n",
       "3                  Brunei       4.8     88.439129  20991.519650  108.220000   \n",
       "4  Bosnia and Herzegovina       4.8     97.332859   1590.190034   45.101538   \n",
       "\n",
       "   health_avg  Log_GDP_avg  Log_Health_avg  \n",
       "0  282.826662     4.019538        2.451520  \n",
       "1   44.111681     3.172415        1.644554  \n",
       "2  100.265111     3.487821        2.001150  \n",
       "3  549.706067     4.322044        2.740131  \n",
       "4  132.698130     3.201449        2.122865  "
      ]
     },
     "execution_count": 82,
     "metadata": {},
     "output_type": "execute_result"
    }
   ],
   "source": [
    "df.head()"
   ]
  },
  {
   "cell_type": "code",
   "execution_count": 71,
   "metadata": {
    "collapsed": false
   },
   "outputs": [
    {
     "data": {
      "text/plain": [
       "array([[<matplotlib.axes._subplots.AxesSubplot object at 0x11bc57850>,\n",
       "        <matplotlib.axes._subplots.AxesSubplot object at 0x11bcbd7d0>,\n",
       "        <matplotlib.axes._subplots.AxesSubplot object at 0x11bd41750>,\n",
       "        <matplotlib.axes._subplots.AxesSubplot object at 0x11bdb2550>,\n",
       "        <matplotlib.axes._subplots.AxesSubplot object at 0x11be38910>],\n",
       "       [<matplotlib.axes._subplots.AxesSubplot object at 0x11bea92d0>,\n",
       "        <matplotlib.axes._subplots.AxesSubplot object at 0x11bf2d850>,\n",
       "        <matplotlib.axes._subplots.AxesSubplot object at 0x11bf3aed0>,\n",
       "        <matplotlib.axes._subplots.AxesSubplot object at 0x11c024810>,\n",
       "        <matplotlib.axes._subplots.AxesSubplot object at 0x11c0a6950>],\n",
       "       [<matplotlib.axes._subplots.AxesSubplot object at 0x11c11a4d0>,\n",
       "        <matplotlib.axes._subplots.AxesSubplot object at 0x11c19e610>,\n",
       "        <matplotlib.axes._subplots.AxesSubplot object at 0x11c202e10>,\n",
       "        <matplotlib.axes._subplots.AxesSubplot object at 0x11c297050>,\n",
       "        <matplotlib.axes._subplots.AxesSubplot object at 0x11c2fc750>],\n",
       "       [<matplotlib.axes._subplots.AxesSubplot object at 0x11c38fa10>,\n",
       "        <matplotlib.axes._subplots.AxesSubplot object at 0x11c4014d0>,\n",
       "        <matplotlib.axes._subplots.AxesSubplot object at 0x11c485890>,\n",
       "        <matplotlib.axes._subplots.AxesSubplot object at 0x11c40e990>,\n",
       "        <matplotlib.axes._subplots.AxesSubplot object at 0x11c56ffd0>],\n",
       "       [<matplotlib.axes._subplots.AxesSubplot object at 0x11c602210>,\n",
       "        <matplotlib.axes._subplots.AxesSubplot object at 0x11c64d710>,\n",
       "        <matplotlib.axes._subplots.AxesSubplot object at 0x11c6d45d0>,\n",
       "        <matplotlib.axes._subplots.AxesSubplot object at 0x11c746050>,\n",
       "        <matplotlib.axes._subplots.AxesSubplot object at 0x11c7cb310>]], dtype=object)"
      ]
     },
     "execution_count": 71,
     "metadata": {},
     "output_type": "execute_result"
    },
    {
     "data": {
      "image/png": "[encoded data removed]",
      "text/plain": [
       "<matplotlib.figure.Figure at 0x11bc57090>"
      ]
     },
     "metadata": {},
     "output_type": "display_data"
    }
   ],
   "source": [
    "pd.tools.plotting.scatter_matrix(\n",
    "    df[ ['badteeth', 'literacy_avg', 'GDP_avg', 'sugar_avg', 'health_avg'] ],\n",
    "    diagonal = 'kde', s = 75, figsize = (12, 12))"
   ]
  },
  {
   "cell_type": "code",
   "execution_count": 83,
   "metadata": {
    "collapsed": true
   },
   "outputs": [],
   "source": [
    "X = df[['literacy_avg', \n",
    "        'Log_GDP_avg', \n",
    "        'sugar_avg', \n",
    "        'Log_Health_avg'\n",
    "       ] ]\n",
    "\n",
    "c = df.badteeth"
   ]
  },
  {
   "cell_type": "code",
   "execution_count": 46,
   "metadata": {
    "collapsed": false
   },
   "outputs": [
    {
     "name": "stdout",
     "output_type": "stream",
     "text": [
      "[ 0.28508779  0.          0.14908534 -0.01083555]\n",
      "2.0771970207\n"
     ]
    }
   ],
   "source": [
    "from sklearn import linear_model\n",
    "\n",
    "clf = linear_model.Lasso(alpha=0.1)\n",
    "clf.fit(X, c)\n",
    "print clf.coef_\n",
    "print clf.intercept_\n"
   ]
  },
  {
   "cell_type": "code",
   "execution_count": 47,
   "metadata": {
    "collapsed": false
   },
   "outputs": [
    {
     "data": {
      "text/plain": [
       "0.16216555824764023"
      ]
     },
     "execution_count": 47,
     "metadata": {},
     "output_type": "execute_result"
    }
   ],
   "source": [
    "clf.score(X,c)"
   ]
  },
  {
   "cell_type": "markdown",
   "metadata": {},
   "source": [
    "# Spot Check \n",
    "\n",
    "How's the model building coming? Have you identifyed some features of interest and noticed any trends? If so, put them into words. \n",
    "\n",
    "### Noticeable Trends: \n",
    "\n",
    "1) Literacy appears to impact bad teeth more than the other variables.\n",
    "\n",
    "2) \n",
    "\n",
    "3) \n"
   ]
  },
  {
   "cell_type": "markdown",
   "metadata": {},
   "source": [
    "# Optimization\n",
    "\n",
    "Time to fine tune the model. What hyperparameters exist in your model? How do you tune these hyperparameters? Also, how can you test for overfitting, and how will you reduce it if you see it? Implement below. "
   ]
  },
  {
   "cell_type": "code",
   "execution_count": 98,
   "metadata": {
    "collapsed": true
   },
   "outputs": [],
   "source": [
    "X = df[['literacy_avg', \n",
    "        'Log_GDP_avg', \n",
    "        'sugar_avg', \n",
    "        'Log_Health_avg'\n",
    "       ] ]\n",
    "\n",
    "c = df.badteeth"
   ]
  },
  {
   "cell_type": "code",
   "execution_count": 99,
   "metadata": {
    "collapsed": false
   },
   "outputs": [],
   "source": [
    "from sklearn import decomposition, cluster\n",
    "\n",
    "pca = decomposition.PCA().fit(X)\n",
    "X = pca.transform(X)\n",
    "\n",
    "X_columns = ['PC0', 'PC1', 'PC2', 'PC3']\n",
    "X = pd.DataFrame(X, columns = X_columns)"
   ]
  },
  {
   "cell_type": "code",
   "execution_count": 100,
   "metadata": {
    "collapsed": false
   },
   "outputs": [
    {
     "data": {
      "text/plain": [
       "array([[  3.53392852e-01,   1.04129437e-02,   9.35328961e-01,\n",
       "          1.28373731e-02],\n",
       "       [ -9.35354634e-01,  -5.04887961e-03,   3.53574593e-01,\n",
       "         -8.43950441e-03],\n",
       "       [ -1.49578863e-02,   6.24858177e-01,  -1.20173808e-02,\n",
       "          7.80502468e-01],\n",
       "       [  1.20950709e-03,   7.80652508e-01,  -5.70309607e-04,\n",
       "         -6.24963898e-01]])"
      ]
     },
     "execution_count": 100,
     "metadata": {},
     "output_type": "execute_result"
    }
   ],
   "source": [
    "pca.components_\n"
   ]
  },
  {
   "cell_type": "code",
   "execution_count": 101,
   "metadata": {
    "collapsed": false
   },
   "outputs": [],
   "source": [
    "normalized_var = pca.explained_variance_ratio_\n",
    "\n",
    "cumulated_normalized_var = np.cumsum(normalized_var)\n"
   ]
  },
  {
   "cell_type": "code",
   "execution_count": 102,
   "metadata": {
    "collapsed": false
   },
   "outputs": [
    {
     "data": {
      "text/plain": [
       "array([  8.72493745e-01,   1.27356317e-01,   1.38443918e-04,\n",
       "         1.14935804e-05])"
      ]
     },
     "execution_count": 102,
     "metadata": {},
     "output_type": "execute_result"
    }
   ],
   "source": [
    "pca.explained_variance_ratio_"
   ]
  },
  {
   "cell_type": "code",
   "execution_count": 103,
   "metadata": {
    "collapsed": false
   },
   "outputs": [
    {
     "data": {
      "text/plain": [
       "[<matplotlib.lines.Line2D at 0x11dd26850>]"
      ]
     },
     "execution_count": 103,
     "metadata": {},
     "output_type": "execute_result"
    },
    {
     "data": {
      "image/png": "[encoded data removed]",
      "text/plain": [
       "<matplotlib.figure.Figure at 0x11c873bd0>"
      ]
     },
     "metadata": {},
     "output_type": "display_data"
    }
   ],
   "source": [
    "plt.plot(cumulated_normalized_var)\n"
   ]
  },
  {
   "cell_type": "code",
   "execution_count": 93,
   "metadata": {
    "collapsed": true
   },
   "outputs": [],
   "source": [
    "pca = decomposition.PCA(n_components = 3).fit(X)\n",
    "\n",
    "X = pca.transform(X)\n",
    "\n",
    "X = pd.DataFrame({'PC0': X.T[0], 'PC1': X.T[1], 'PC2': X.T[2]})"
   ]
  },
  {
   "cell_type": "code",
   "execution_count": 96,
   "metadata": {
    "collapsed": false
   },
   "outputs": [
    {
     "data": {
      "text/plain": [
       "<matplotlib.axes._subplots.AxesSubplot at 0x11da0f6d0>"
      ]
     },
     "execution_count": 96,
     "metadata": {},
     "output_type": "execute_result"
    },
    {
     "data": {
      "image/png": "[encoded data removed]",
      "text/plain": [
       "<matplotlib.figure.Figure at 0x11ca600d0>"
      ]
     },
     "metadata": {},
     "output_type": "display_data"
    }
   ],
   "source": [
    "\n",
    "model = cluster.KMeans(n_clusters = 2, random_state = 0).fit(X)\n",
    "\n",
    "cluster_ = pd.Series(model.labels_)\n",
    "\n",
    "color = cluster_.map({0: 'red', 1: 'green', 2: 'blue', 3: 'purple'})\n",
    "\n",
    "_, axes = plt.subplots(1, 3, figsize = (16, 6))\n",
    "\n",
    "X.plot(kind = 'scatter', x = 'PC0', y = 'PC1', c = color, ax = axes[0])\n",
    "X.plot(kind = 'scatter', x = 'PC0', y = 'PC2', c = color, ax = axes[1])\n",
    "X.plot(kind = 'scatter', x = 'PC1', y = 'PC2', c = color, ax = axes[2])"
   ]
  },
  {
   "cell_type": "markdown",
   "metadata": {},
   "source": [
    "Evaluate your models again. How do different hyperparameters change your predictive performance? Again, explain in a few words."
   ]
  },
  {
   "cell_type": "code",
   "execution_count": null,
   "metadata": {
    "collapsed": true
   },
   "outputs": [],
   "source": [
    "# TO DO:\n",
    "# fill in the correct values for the hyperparameter testing. \n",
    "\n",
    "for INPUT HYPERPARAMTER in range(INPUT RANGE):\n",
    "    model = \n",
    "    #TO DO: test hyperparameters "
   ]
  },
  {
   "cell_type": "code",
   "execution_count": null,
   "metadata": {
    "collapsed": true
   },
   "outputs": [],
   "source": []
  },
  {
   "cell_type": "markdown",
   "metadata": {},
   "source": [
    "# Final Conclusions\n",
    "\n",
    "If a data scientist makes a brilliant conclusion but can't communicate effectively, did they ever make a conclusion?  \n",
    "\n",
    "Explain your findings to a person with a math/stats background. Reference your H1/H0 hypotheses:\n",
    "\n",
    "Answer: \n",
    "\n",
    "Now explain them to a person who hates math:\n",
    "\n",
    "Answer: \n"
   ]
  }
 ],
 "metadata": {
  "kernelspec": {
   "display_name": "Python 2",
   "language": "python",
   "name": "python2"
  },
  "language_info": {
   "codemirror_mode": {
    "name": "ipython",
    "version": 2
   },
   "file_extension": ".py",
   "mimetype": "text/x-python",
   "name": "python",
   "nbconvert_exporter": "python",
   "pygments_lexer": "ipython2",
   "version": "2.7.13"
  }
 },
 "nbformat": 4,
 "nbformat_minor": 2
}
